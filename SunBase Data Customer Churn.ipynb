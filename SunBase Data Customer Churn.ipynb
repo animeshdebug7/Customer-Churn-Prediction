{
 "cells": [
  {
   "cell_type": "markdown",
   "id": "e2a19f04",
   "metadata": {},
   "source": [
    "# Basic Libraries"
   ]
  },
  {
   "cell_type": "code",
   "execution_count": 164,
   "id": "2877fcdc",
   "metadata": {},
   "outputs": [],
   "source": [
    "import pandas as pd\n",
    "import numpy as np\n",
    "import matplotlib.pyplot as plt\n",
    "import seaborn as sns"
   ]
  },
  {
   "cell_type": "code",
   "execution_count": 165,
   "id": "d8d9b9fb",
   "metadata": {},
   "outputs": [
    {
     "name": "stdout",
     "output_type": "stream",
     "text": [
      "C:\\Users\\anime\\OneDrive\\Desktop\\SunBase Data\n"
     ]
    }
   ],
   "source": [
    "cd C:\\Users\\anime\\OneDrive\\Desktop\\SunBase Data"
   ]
  },
  {
   "cell_type": "markdown",
   "id": "187e4785",
   "metadata": {},
   "source": [
    "### Reading the data"
   ]
  },
  {
   "cell_type": "code",
   "execution_count": 166,
   "id": "27c1b7e9",
   "metadata": {},
   "outputs": [],
   "source": [
    "# df = pd. read_excel('customer_churn_large_dataset.xlsx', header = 0)\n",
    "# df.to_csv('customer_churn_large_dataset.csv', index = False)\n",
    "df = pd.read_csv('customer_churn_large_dataset.csv')"
   ]
  },
  {
   "cell_type": "code",
   "execution_count": 167,
   "id": "7a58e045",
   "metadata": {},
   "outputs": [
    {
     "data": {
      "text/html": [
       "<div>\n",
       "<style scoped>\n",
       "    .dataframe tbody tr th:only-of-type {\n",
       "        vertical-align: middle;\n",
       "    }\n",
       "\n",
       "    .dataframe tbody tr th {\n",
       "        vertical-align: top;\n",
       "    }\n",
       "\n",
       "    .dataframe thead th {\n",
       "        text-align: right;\n",
       "    }\n",
       "</style>\n",
       "<table border=\"1\" class=\"dataframe\">\n",
       "  <thead>\n",
       "    <tr style=\"text-align: right;\">\n",
       "      <th></th>\n",
       "      <th>CustomerID</th>\n",
       "      <th>Name</th>\n",
       "      <th>Age</th>\n",
       "      <th>Gender</th>\n",
       "      <th>Location</th>\n",
       "      <th>Subscription_Length_Months</th>\n",
       "      <th>Monthly_Bill</th>\n",
       "      <th>Total_Usage_GB</th>\n",
       "      <th>Churn</th>\n",
       "    </tr>\n",
       "  </thead>\n",
       "  <tbody>\n",
       "    <tr>\n",
       "      <th>0</th>\n",
       "      <td>1.0</td>\n",
       "      <td>Customer_1</td>\n",
       "      <td>63.0</td>\n",
       "      <td>Male</td>\n",
       "      <td>Los Angeles</td>\n",
       "      <td>17.0</td>\n",
       "      <td>73.36</td>\n",
       "      <td>236.0</td>\n",
       "      <td>0.0</td>\n",
       "    </tr>\n",
       "    <tr>\n",
       "      <th>1</th>\n",
       "      <td>2.0</td>\n",
       "      <td>Customer_2</td>\n",
       "      <td>62.0</td>\n",
       "      <td>Female</td>\n",
       "      <td>New York</td>\n",
       "      <td>1.0</td>\n",
       "      <td>48.76</td>\n",
       "      <td>172.0</td>\n",
       "      <td>0.0</td>\n",
       "    </tr>\n",
       "    <tr>\n",
       "      <th>2</th>\n",
       "      <td>3.0</td>\n",
       "      <td>Customer_3</td>\n",
       "      <td>24.0</td>\n",
       "      <td>Female</td>\n",
       "      <td>Los Angeles</td>\n",
       "      <td>5.0</td>\n",
       "      <td>85.47</td>\n",
       "      <td>460.0</td>\n",
       "      <td>0.0</td>\n",
       "    </tr>\n",
       "    <tr>\n",
       "      <th>3</th>\n",
       "      <td>4.0</td>\n",
       "      <td>Customer_4</td>\n",
       "      <td>36.0</td>\n",
       "      <td>Female</td>\n",
       "      <td>Miami</td>\n",
       "      <td>3.0</td>\n",
       "      <td>97.94</td>\n",
       "      <td>297.0</td>\n",
       "      <td>1.0</td>\n",
       "    </tr>\n",
       "    <tr>\n",
       "      <th>4</th>\n",
       "      <td>5.0</td>\n",
       "      <td>Customer_5</td>\n",
       "      <td>46.0</td>\n",
       "      <td>Female</td>\n",
       "      <td>Miami</td>\n",
       "      <td>19.0</td>\n",
       "      <td>58.14</td>\n",
       "      <td>266.0</td>\n",
       "      <td>0.0</td>\n",
       "    </tr>\n",
       "  </tbody>\n",
       "</table>\n",
       "</div>"
      ],
      "text/plain": [
       "   CustomerID        Name   Age  Gender     Location  \\\n",
       "0         1.0  Customer_1  63.0    Male  Los Angeles   \n",
       "1         2.0  Customer_2  62.0  Female     New York   \n",
       "2         3.0  Customer_3  24.0  Female  Los Angeles   \n",
       "3         4.0  Customer_4  36.0  Female        Miami   \n",
       "4         5.0  Customer_5  46.0  Female        Miami   \n",
       "\n",
       "   Subscription_Length_Months  Monthly_Bill  Total_Usage_GB  Churn  \n",
       "0                        17.0         73.36           236.0    0.0  \n",
       "1                         1.0         48.76           172.0    0.0  \n",
       "2                         5.0         85.47           460.0    0.0  \n",
       "3                         3.0         97.94           297.0    1.0  \n",
       "4                        19.0         58.14           266.0    0.0  "
      ]
     },
     "execution_count": 167,
     "metadata": {},
     "output_type": "execute_result"
    }
   ],
   "source": [
    "df.head()"
   ]
  },
  {
   "cell_type": "markdown",
   "id": "96ac46ad",
   "metadata": {},
   "source": [
    "### Data Preprocessing"
   ]
  },
  {
   "cell_type": "code",
   "execution_count": 168,
   "id": "217341af",
   "metadata": {},
   "outputs": [
    {
     "data": {
      "text/plain": [
       "Age                           float64\n",
       "Gender                         object\n",
       "Location                       object\n",
       "Subscription_Length_Months    float64\n",
       "Monthly_Bill                  float64\n",
       "Total_Usage_GB                float64\n",
       "Churn                         float64\n",
       "dtype: object"
      ]
     },
     "execution_count": 168,
     "metadata": {},
     "output_type": "execute_result"
    }
   ],
   "source": [
    "df.drop(['CustomerID', 'Name'], axis = 1, inplace = True)          #Removing useless columns\n",
    "df.dtypes"
   ]
  },
  {
   "cell_type": "code",
   "execution_count": 169,
   "id": "0a67f267",
   "metadata": {},
   "outputs": [
    {
     "data": {
      "text/plain": [
       "Age                           0\n",
       "Gender                        0\n",
       "Location                      0\n",
       "Subscription_Length_Months    0\n",
       "Monthly_Bill                  0\n",
       "Total_Usage_GB                0\n",
       "Churn                         0\n",
       "dtype: int64"
      ]
     },
     "execution_count": 169,
     "metadata": {},
     "output_type": "execute_result"
    }
   ],
   "source": [
    "df.isnull().sum()             #Checking for NULL values"
   ]
  },
  {
   "cell_type": "code",
   "execution_count": 170,
   "id": "43404a49",
   "metadata": {},
   "outputs": [
    {
     "data": {
      "text/plain": [
       "<matplotlib.legend.Legend at 0x1735859f070>"
      ]
     },
     "execution_count": 170,
     "metadata": {},
     "output_type": "execute_result"
    },
    {
     "data": {
      "image/png": "[encoded data removed]",
      "text/plain": [
       "<Figure size 432x288 with 1 Axes>"
      ]
     },
     "metadata": {
      "needs_background": "light"
     },
     "output_type": "display_data"
    }
   ],
   "source": [
    "churn_no = df[df.Churn == 0].Subscription_Length_Months\n",
    "churn_yes = df[df.Churn == 1].Subscription_Length_Months\n",
    "\n",
    "plt.xlabel(\"Subscription_Length_Months\")\n",
    "plt.ylabel(\"No. Of Customers\")\n",
    "\n",
    "plt.hist([churn_yes, churn_no], color = ['green', 'red'], label = ['Churn = Yes', 'Churn = No'])\n",
    "plt.legend()"
   ]
  },
  {
   "cell_type": "code",
   "execution_count": 171,
   "id": "30ff5fd6",
   "metadata": {},
   "outputs": [
    {
     "data": {
      "text/plain": [
       "<matplotlib.legend.Legend at 0x1735859fac0>"
      ]
     },
     "execution_count": 171,
     "metadata": {},
     "output_type": "execute_result"
    },
    {
     "data": {
      "image/png": "[encoded data removed]",
      "text/plain": [
       "<Figure size 432x288 with 1 Axes>"
      ]
     },
     "metadata": {
      "needs_background": "light"
     },
     "output_type": "display_data"
    }
   ],
   "source": [
    "churn_no = df[df.Churn==0].Age\n",
    "churn_yes = df[df.Churn==1].Age\n",
    "\n",
    "plt.xlabel(\"Age\")\n",
    "plt.ylabel(\"No. Of Customers\")\n",
    "\n",
    "plt.hist([churn_yes, churn_no], color = ['green', 'red'], label = ['Churn = Yes', 'Churn = No'])\n",
    "plt.legend()"
   ]
  },
  {
   "cell_type": "code",
   "execution_count": 172,
   "id": "842132e6",
   "metadata": {},
   "outputs": [
    {
     "data": {
      "text/plain": [
       "<matplotlib.legend.Legend at 0x17407d6bb20>"
      ]
     },
     "execution_count": 172,
     "metadata": {},
     "output_type": "execute_result"
    },
    {
     "data": {
      "image/png": "[encoded data removed]",
      "text/plain": [
       "<Figure size 432x288 with 1 Axes>"
      ]
     },
     "metadata": {
      "needs_background": "light"
     },
     "output_type": "display_data"
    }
   ],
   "source": [
    "churn_no = df[df.Churn==0].Monthly_Bill\n",
    "churn_yes = df[df.Churn==1].Monthly_Bill\n",
    "\n",
    "plt.xlabel(\"Monthly_Bill\")\n",
    "plt.ylabel(\"No. Of Customers\")\n",
    "\n",
    "plt.hist([churn_yes, churn_no], color = ['green', 'red'], label = ['Churn = Yes', 'Churn = No'])\n",
    "plt.legend()"
   ]
  },
  {
   "cell_type": "code",
   "execution_count": 173,
   "id": "96857266",
   "metadata": {},
   "outputs": [
    {
     "data": {
      "text/plain": [
       "<matplotlib.legend.Legend at 0x173585c6730>"
      ]
     },
     "execution_count": 173,
     "metadata": {},
     "output_type": "execute_result"
    },
    {
     "data": {
      "image/png": "[encoded data removed]",
      "text/plain": [
       "<Figure size 432x288 with 1 Axes>"
      ]
     },
     "metadata": {
      "needs_background": "light"
     },
     "output_type": "display_data"
    }
   ],
   "source": [
    "churn_no = df[df.Churn==0].Total_Usage_GB\n",
    "churn_yes = df[df.Churn==1].Total_Usage_GB\n",
    "\n",
    "plt.xlabel(\"Total_Usage_GB\")\n",
    "plt.ylabel(\"No. Of Customers\")\n",
    "\n",
    "plt.hist([churn_yes, churn_no], color = ['green', 'red'], label = ['Churn = Yes', 'Churn = No'])\n",
    "plt.legend()"
   ]
  },
  {
   "cell_type": "code",
   "execution_count": 174,
   "id": "05c862c1",
   "metadata": {},
   "outputs": [
    {
     "data": {
      "text/plain": [
       "<matplotlib.legend.Legend at 0x17427462910>"
      ]
     },
     "execution_count": 174,
     "metadata": {},
     "output_type": "execute_result"
    },
    {
     "data": {
      "image/png": "[encoded data removed]",
      "text/plain": [
       "<Figure size 432x288 with 1 Axes>"
      ]
     },
     "metadata": {
      "needs_background": "light"
     },
     "output_type": "display_data"
    }
   ],
   "source": [
    "churn_no = df[df.Churn==0].Location\n",
    "churn_yes = df[df.Churn==1].Location\n",
    "\n",
    "plt.xlabel(\"Location\")\n",
    "plt.ylabel(\"No. Of Customers\")\n",
    "\n",
    "plt.hist([churn_yes, churn_no], color = ['green', 'red'], label = ['Churn = Yes', 'Churn = No'])\n",
    "plt.legend()"
   ]
  },
  {
   "cell_type": "code",
   "execution_count": 175,
   "id": "8e8dc89b",
   "metadata": {},
   "outputs": [
    {
     "data": {
      "text/plain": [
       "<matplotlib.legend.Legend at 0x1742685f9d0>"
      ]
     },
     "execution_count": 175,
     "metadata": {},
     "output_type": "execute_result"
    },
    {
     "data": {
      "image/png": "[encoded data removed]",
      "text/plain": [
       "<Figure size 432x288 with 1 Axes>"
      ]
     },
     "metadata": {
      "needs_background": "light"
     },
     "output_type": "display_data"
    }
   ],
   "source": [
    "churn_no = df[df.Churn==0].Gender\n",
    "churn_yes = df[df.Churn==1].Gender\n",
    "\n",
    "plt.xlabel(\"Gender\")\n",
    "plt.ylabel(\"No. Of Customers\")\n",
    "\n",
    "plt.hist([churn_yes, churn_no], color = ['green', 'red'], label = ['Churn = Yes', 'Churn = No'])\n",
    "plt.legend()"
   ]
  },
  {
   "cell_type": "markdown",
   "id": "558ba2a1",
   "metadata": {},
   "source": [
    "Since Gender & Location are not decisive parameters for the customer churn, we can remove them altogether."
   ]
  },
  {
   "cell_type": "code",
   "execution_count": 176,
   "id": "646823b8",
   "metadata": {},
   "outputs": [],
   "source": [
    "from sklearn import preprocessing\n",
    "\n",
    "label_encoder = preprocessing.LabelEncoder()              #Label Encoding\n",
    "\n",
    "df['Gender']= label_encoder.fit_transform(df['Gender'])\n",
    "# df.drop(['Location', 'Gender'], axis = 1, inplace = True)"
   ]
  },
  {
   "cell_type": "code",
   "execution_count": 177,
   "id": "002f875f",
   "metadata": {},
   "outputs": [],
   "source": [
    "dummies = pd.get_dummies(df.Location)                     #One Hot Encoding\n",
    "df = pd.concat([df, dummies], axis = 'columns')\n",
    "df.drop(['Location','Chicago'], axis = 1 , inplace = True)"
   ]
  },
  {
   "cell_type": "code",
   "execution_count": 178,
   "id": "935777ec",
   "metadata": {},
   "outputs": [],
   "source": [
    "df['Data_Cost'] = df['Monthly_Bill'] / df['Total_Usage_GB']  #Data Cost is GB per unit currency in the location"
   ]
  },
  {
   "cell_type": "code",
   "execution_count": 181,
   "id": "96729f08",
   "metadata": {},
   "outputs": [
    {
     "name": "stdout",
     "output_type": "stream",
     "text": [
      "Age: [63. 62. 24. 36. 46. 67. 30. 20. 53. 50. 44. 34. 28. 42. 55. 43. 31. 41.\n",
      " 58. 64. 70. 18. 25. 27. 66. 29. 60. 26. 45. 19. 37. 49. 38. 57. 47. 48.\n",
      " 40. 21. 33. 51. 35. 69. 61. 52. 39. 56. 59. 65. 22. 54. 68. 32. 23.]\n",
      "Gender: [1 0]\n",
      "Subscription_Length_Months: [17.  1.  5.  3. 19. 15. 10. 12. 20. 13.  8. 23.  2.  4. 18.  9. 14. 16.\n",
      "  6.  7. 24. 22. 11. 21.]\n",
      "Monthly_Bill: [73.36 48.76 85.47 ... 75.21 41.98 83.55]\n",
      "Total_Usage_GB: [236. 172. 460. 297. 266. 456. 269. 396. 150. 383. 442. 295. 148. 239.\n",
      " 233. 231. 198. 354. 429. 243. 270. 389. 226. 393.  89. 183. 135. 185.\n",
      " 151. 115. 194. 278. 423. 202. 495. 162. 101. 294. 122. 305. 212. 220.\n",
      " 253. 411. 447. 218. 221. 166.  64.  67. 391. 232. 298. 334. 326. 459.\n",
      " 371. 299. 376. 214. 329.  50. 444. 113.  76. 134. 184. 319. 235.  85.\n",
      " 332.  73. 369. 308. 446. 321.  83. 114. 296. 102. 215. 169. 225. 140.\n",
      "  84. 463. 402. 468. 375. 366. 404. 471. 204. 320. 178. 149. 361. 304.\n",
      " 281. 177. 117. 137. 322. 427. 403. 237. 439. 336. 344. 288. 257. 196.\n",
      " 365. 419. 111. 192. 244. 287. 395. 213. 109. 286. 283. 230. 491. 274.\n",
      " 335. 462. 407. 126. 199. 351. 261. 496. 480. 400. 303. 197. 181. 474.\n",
      " 348. 112. 457.  54. 397. 100. 318. 242. 327. 476. 256. 241. 466. 438.\n",
      "  51. 165. 120. 493.  59. 188. 339. 167. 301. 209. 311. 190. 345. 284.\n",
      " 390.  72. 258. 358. 136. 280.  55. 309. 388.  52. 478. 401. 472.  65.\n",
      " 163. 488. 497.  71. 216. 229. 271. 223. 263. 255. 145. 203. 372. 443.\n",
      " 306. 307. 386. 448. 377. 482. 324. 357. 187. 394. 123. 106.  80. 211.\n",
      "  78. 499. 498. 424. 325. 119. 143. 153. 437. 492. 406.  69. 272. 352.\n",
      " 125.  82. 160. 333. 104. 247. 405. 353.  63. 289.  88. 346.  91. 385.\n",
      " 380. 431. 364.  79. 300. 374.  86. 290. 265. 433. 469. 453. 224. 421.\n",
      " 251. 485. 180. 171.  95.  93. 350.  58. 200. 420. 132. 428. 479.  96.\n",
      " 103. 129. 417.  99. 430.  75.  53. 382. 412. 268. 410.  94. 315. 387.\n",
      " 116. 489. 108. 208. 313. 127. 222. 451.  56. 139. 282. 138. 141. 156.\n",
      " 373. 157. 467.  68. 414. 360. 144. 273. 217. 189. 118. 155.  62. 413.\n",
      " 154. 458. 449. 490. 464. 379. 254. 131.  92. 195. 450. 347. 191. 425.\n",
      " 432. 384.  57. 494. 173. 210. 363. 130. 487. 455. 105. 399. 323.  61.\n",
      " 341. 426. 240. 302. 176. 152. 331. 440. 276.  87. 291. 193.  90. 500.\n",
      " 170. 174. 182. 359. 408. 454. 158. 328. 436. 312. 338.  60. 362. 205.\n",
      " 416. 483. 415. 477. 484. 252. 250. 164. 146. 161. 234. 473. 317.  77.\n",
      " 267. 342. 110. 343. 133. 330. 367. 147.  81. 277. 310. 392. 349. 314.\n",
      " 107. 259. 228. 168. 246. 219.  98. 121. 142. 238. 206.  97. 381. 245.\n",
      " 175. 124. 292. 340. 316. 465. 470. 475. 248. 445. 452. 249. 337.  66.\n",
      " 418. 201. 227. 422. 481. 355. 279. 435. 275. 260.  70. 186. 159. 368.\n",
      " 179. 262. 370.  74. 378. 128. 461. 293. 441. 434. 207. 356. 398. 285.\n",
      " 409. 486. 264.]\n",
      "Churn: [0 1]\n",
      "Houston: [0 1]\n",
      "Los Angeles: [1 0]\n",
      "Miami: [0 1]\n",
      "New York: [0 1]\n",
      "Data_Cost: [0.31084746 0.28348837 0.18580435 ... 0.38290837 0.11347926 0.44260116]\n"
     ]
    }
   ],
   "source": [
    "for col in df:                             #All unique values in the dataset\n",
    "    print(f'{col}: {df[col].unique()}')"
   ]
  },
  {
   "cell_type": "markdown",
   "id": "cf66f207",
   "metadata": {},
   "source": [
    "# ANN"
   ]
  },
  {
   "cell_type": "code",
   "execution_count": 182,
   "id": "cba4d83d",
   "metadata": {},
   "outputs": [],
   "source": [
    "#Scaling\n",
    "from sklearn.preprocessing import MinMaxScaler                         \n",
    "cols2scale = ['Age', 'Subscription_Length_Months', 'Monthly_Bill', 'Total_Usage_GB']\n",
    "scaler = MinMaxScaler()\n",
    "\n",
    "df[cols2scale] = scaler.fit_transform(df[cols2scale])"
   ]
  },
  {
   "cell_type": "code",
   "execution_count": 183,
   "id": "ae297859",
   "metadata": {},
   "outputs": [
    {
     "data": {
      "text/html": [
       "<div>\n",
       "<style scoped>\n",
       "    .dataframe tbody tr th:only-of-type {\n",
       "        vertical-align: middle;\n",
       "    }\n",
       "\n",
       "    .dataframe tbody tr th {\n",
       "        vertical-align: top;\n",
       "    }\n",
       "\n",
       "    .dataframe thead th {\n",
       "        text-align: right;\n",
       "    }\n",
       "</style>\n",
       "<table border=\"1\" class=\"dataframe\">\n",
       "  <thead>\n",
       "    <tr style=\"text-align: right;\">\n",
       "      <th></th>\n",
       "      <th>Age</th>\n",
       "      <th>Gender</th>\n",
       "      <th>Subscription_Length_Months</th>\n",
       "      <th>Monthly_Bill</th>\n",
       "      <th>Total_Usage_GB</th>\n",
       "      <th>Churn</th>\n",
       "      <th>Houston</th>\n",
       "      <th>Los Angeles</th>\n",
       "      <th>Miami</th>\n",
       "      <th>New York</th>\n",
       "      <th>Data_Cost</th>\n",
       "    </tr>\n",
       "  </thead>\n",
       "  <tbody>\n",
       "    <tr>\n",
       "      <th>0</th>\n",
       "      <td>0.865385</td>\n",
       "      <td>1</td>\n",
       "      <td>0.695652</td>\n",
       "      <td>0.619429</td>\n",
       "      <td>0.413333</td>\n",
       "      <td>0</td>\n",
       "      <td>0</td>\n",
       "      <td>1</td>\n",
       "      <td>0</td>\n",
       "      <td>0</td>\n",
       "      <td>0.310847</td>\n",
       "    </tr>\n",
       "    <tr>\n",
       "      <th>1</th>\n",
       "      <td>0.846154</td>\n",
       "      <td>0</td>\n",
       "      <td>0.000000</td>\n",
       "      <td>0.268000</td>\n",
       "      <td>0.271111</td>\n",
       "      <td>0</td>\n",
       "      <td>0</td>\n",
       "      <td>0</td>\n",
       "      <td>0</td>\n",
       "      <td>1</td>\n",
       "      <td>0.283488</td>\n",
       "    </tr>\n",
       "    <tr>\n",
       "      <th>2</th>\n",
       "      <td>0.115385</td>\n",
       "      <td>0</td>\n",
       "      <td>0.173913</td>\n",
       "      <td>0.792429</td>\n",
       "      <td>0.911111</td>\n",
       "      <td>0</td>\n",
       "      <td>0</td>\n",
       "      <td>1</td>\n",
       "      <td>0</td>\n",
       "      <td>0</td>\n",
       "      <td>0.185804</td>\n",
       "    </tr>\n",
       "    <tr>\n",
       "      <th>3</th>\n",
       "      <td>0.346154</td>\n",
       "      <td>0</td>\n",
       "      <td>0.086957</td>\n",
       "      <td>0.970571</td>\n",
       "      <td>0.548889</td>\n",
       "      <td>1</td>\n",
       "      <td>0</td>\n",
       "      <td>0</td>\n",
       "      <td>1</td>\n",
       "      <td>0</td>\n",
       "      <td>0.329764</td>\n",
       "    </tr>\n",
       "    <tr>\n",
       "      <th>4</th>\n",
       "      <td>0.538462</td>\n",
       "      <td>0</td>\n",
       "      <td>0.782609</td>\n",
       "      <td>0.402000</td>\n",
       "      <td>0.480000</td>\n",
       "      <td>0</td>\n",
       "      <td>0</td>\n",
       "      <td>0</td>\n",
       "      <td>1</td>\n",
       "      <td>0</td>\n",
       "      <td>0.218571</td>\n",
       "    </tr>\n",
       "  </tbody>\n",
       "</table>\n",
       "</div>"
      ],
      "text/plain": [
       "        Age  Gender  Subscription_Length_Months  Monthly_Bill  Total_Usage_GB  \\\n",
       "0  0.865385       1                    0.695652      0.619429        0.413333   \n",
       "1  0.846154       0                    0.000000      0.268000        0.271111   \n",
       "2  0.115385       0                    0.173913      0.792429        0.911111   \n",
       "3  0.346154       0                    0.086957      0.970571        0.548889   \n",
       "4  0.538462       0                    0.782609      0.402000        0.480000   \n",
       "\n",
       "   Churn  Houston  Los Angeles  Miami  New York  Data_Cost  \n",
       "0      0        0            1      0         0   0.310847  \n",
       "1      0        0            0      0         1   0.283488  \n",
       "2      0        0            1      0         0   0.185804  \n",
       "3      1        0            0      1         0   0.329764  \n",
       "4      0        0            0      1         0   0.218571  "
      ]
     },
     "execution_count": 183,
     "metadata": {},
     "output_type": "execute_result"
    }
   ],
   "source": [
    "df.head()"
   ]
  },
  {
   "cell_type": "code",
   "execution_count": 196,
   "id": "dc18271e",
   "metadata": {},
   "outputs": [],
   "source": [
    "from sklearn.model_selection import train_test_split\n",
    "X = df.drop('Churn', axis = 'columns')\n",
    "y = df['Churn']\n",
    "X_train, X_test, y_train, y_test = train_test_split(X, y, test_size = 0.1, random_state = 64)"
   ]
  },
  {
   "cell_type": "code",
   "execution_count": 197,
   "id": "4c69b9c8",
   "metadata": {},
   "outputs": [
    {
     "name": "stdout",
     "output_type": "stream",
     "text": [
      "(90000, 10)\n",
      "(10000, 10)\n"
     ]
    }
   ],
   "source": [
    "print(X_train.shape)\n",
    "print(X_test.shape)"
   ]
  },
  {
   "cell_type": "code",
   "execution_count": 198,
   "id": "e75f52c7",
   "metadata": {},
   "outputs": [
    {
     "data": {
      "text/plain": [
       "10"
      ]
     },
     "execution_count": 198,
     "metadata": {},
     "output_type": "execute_result"
    }
   ],
   "source": [
    "len(X_train.columns)"
   ]
  },
  {
   "cell_type": "code",
   "execution_count": 199,
   "id": "d3f7153c",
   "metadata": {},
   "outputs": [
    {
     "data": {
      "text/plain": [
       "8475     0\n",
       "37416    0\n",
       "19093    0\n",
       "84690    0\n",
       "77763    0\n",
       "        ..\n",
       "41969    0\n",
       "49206    1\n",
       "88183    0\n",
       "87014    1\n",
       "39364    0\n",
       "Name: Churn, Length: 90000, dtype: int32"
      ]
     },
     "execution_count": 199,
     "metadata": {},
     "output_type": "execute_result"
    }
   ],
   "source": [
    "y_train"
   ]
  },
  {
   "cell_type": "code",
   "execution_count": null,
   "id": "d137d51d",
   "metadata": {},
   "outputs": [],
   "source": []
  },
  {
   "cell_type": "code",
   "execution_count": 203,
   "id": "c36f5ec3",
   "metadata": {},
   "outputs": [
    {
     "name": "stdout",
     "output_type": "stream",
     "text": [
      "Epoch 1/20\n",
      "2813/2813 [==============================] - 17s 6ms/step - loss: 0.6964 - accuracy: 0.5026\n",
      "Epoch 2/20\n",
      "2813/2813 [==============================] - 19s 7ms/step - loss: 0.6933 - accuracy: 0.5014\n",
      "Epoch 3/20\n",
      "2813/2813 [==============================] - 20s 7ms/step - loss: 0.6932 - accuracy: 0.5008\n",
      "Epoch 4/20\n",
      "2813/2813 [==============================] - 18s 6ms/step - loss: 0.6932 - accuracy: 0.4976\n",
      "Epoch 5/20\n",
      "2813/2813 [==============================] - 17s 6ms/step - loss: 0.6932 - accuracy: 0.4995\n",
      "Epoch 6/20\n",
      "2813/2813 [==============================] - 17s 6ms/step - loss: 0.6932 - accuracy: 0.4993 \n",
      "Epoch 7/20\n",
      "2813/2813 [==============================] - 16s 6ms/step - loss: 0.6932 - accuracy: 0.5010\n",
      "Epoch 8/20\n",
      "2813/2813 [==============================] - 16s 6ms/step - loss: 0.6932 - accuracy: 0.5012\n",
      "Epoch 9/20\n",
      "2813/2813 [==============================] - 18s 6ms/step - loss: 0.6932 - accuracy: 0.5003\n",
      "Epoch 10/20\n",
      "2813/2813 [==============================] - 17s 6ms/step - loss: 0.6932 - accuracy: 0.4993\n",
      "Epoch 11/20\n",
      "2813/2813 [==============================] - 17s 6ms/step - loss: 0.6932 - accuracy: 0.5016\n",
      "Epoch 12/20\n",
      "2813/2813 [==============================] - 19s 7ms/step - loss: 0.6932 - accuracy: 0.4985\n",
      "Epoch 13/20\n",
      "2813/2813 [==============================] - 17s 6ms/step - loss: 0.6931 - accuracy: 0.5020\n",
      "Epoch 14/20\n",
      "2813/2813 [==============================] - 18s 6ms/step - loss: 0.6932 - accuracy: 0.4991\n",
      "Epoch 15/20\n",
      "2813/2813 [==============================] - 17s 6ms/step - loss: 0.6932 - accuracy: 0.4982\n",
      "Epoch 16/20\n",
      "2813/2813 [==============================] - 17s 6ms/step - loss: 0.6931 - accuracy: 0.5027\n",
      "Epoch 17/20\n",
      "2813/2813 [==============================] - 17s 6ms/step - loss: 0.6932 - accuracy: 0.5013\n",
      "Epoch 18/20\n",
      "2813/2813 [==============================] - 18s 6ms/step - loss: 0.6932 - accuracy: 0.4990\n",
      "Epoch 19/20\n",
      "2813/2813 [==============================] - 18s 6ms/step - loss: 0.6932 - accuracy: 0.5002\n",
      "Epoch 20/20\n",
      "2813/2813 [==============================] - 17s 6ms/step - loss: 0.6932 - accuracy: 0.5013\n"
     ]
    },
    {
     "data": {
      "text/plain": [
       "<tensorflow.python.keras.callbacks.History at 0x1742b3bdf40>"
      ]
     },
     "execution_count": 203,
     "metadata": {},
     "output_type": "execute_result"
    }
   ],
   "source": [
    "import tensorflow as tf\n",
    "from tensorflow import keras\n",
    "\n",
    "model = keras.Sequential(\n",
    "[\n",
    "    keras.layers.Dense(10, input_shape = (10,), activation = 'relu'),\n",
    "    keras.layers.Dropout(0.5),\n",
    "    keras.layers.Dense(10, activation = 'relu'),\n",
    "    keras.layers.Dropout(0.5),\n",
    "    keras.layers.Dense(7, activation = 'relu'),\n",
    "    keras.layers.Dropout(0.5),\n",
    "    keras.layers.Dense(1, activation = 'sigmoid')\n",
    "])\n",
    "\n",
    "# opt = keras.optimizers.Adam(learning_rate=0.01)\n",
    "\n",
    "model.compile(optimizer = 'adam',\n",
    "              loss = 'binary_crossentropy',\n",
    "              metrics = ['accuracy'])\n",
    "\n",
    "model.fit(X_train, y_train, epochs = 20)"
   ]
  },
  {
   "cell_type": "code",
   "execution_count": 204,
   "id": "00d2256a",
   "metadata": {},
   "outputs": [
    {
     "name": "stdout",
     "output_type": "stream",
     "text": [
      "Model: \"sequential_10\"\n",
      "_________________________________________________________________\n",
      "Layer (type)                 Output Shape              Param #   \n",
      "=================================================================\n",
      "flatten (Flatten)            (None, 10)                0         \n",
      "_________________________________________________________________\n",
      "dense_34 (Dense)             (None, 10)                110       \n",
      "_________________________________________________________________\n",
      "dropout_3 (Dropout)          (None, 10)                0         \n",
      "_________________________________________________________________\n",
      "dense_35 (Dense)             (None, 10)                110       \n",
      "_________________________________________________________________\n",
      "dropout_4 (Dropout)          (None, 10)                0         \n",
      "_________________________________________________________________\n",
      "dense_36 (Dense)             (None, 7)                 77        \n",
      "_________________________________________________________________\n",
      "dropout_5 (Dropout)          (None, 7)                 0         \n",
      "_________________________________________________________________\n",
      "dense_37 (Dense)             (None, 1)                 8         \n",
      "=================================================================\n",
      "Total params: 305\n",
      "Trainable params: 305\n",
      "Non-trainable params: 0\n",
      "_________________________________________________________________\n"
     ]
    }
   ],
   "source": [
    "model.summary()"
   ]
  },
  {
   "cell_type": "code",
   "execution_count": 110,
   "id": "85eac56c",
   "metadata": {},
   "outputs": [
    {
     "name": "stdout",
     "output_type": "stream",
     "text": [
      "625/625 [==============================] - 2s 2ms/step - loss: 0.6933 - accuracy: 0.4946\n"
     ]
    },
    {
     "data": {
      "text/plain": [
       "[0.6932796835899353, 0.49459999799728394]"
      ]
     },
     "execution_count": 110,
     "metadata": {},
     "output_type": "execute_result"
    }
   ],
   "source": [
    "model.evaluate(X_test, y_test)"
   ]
  },
  {
   "cell_type": "code",
   "execution_count": 111,
   "id": "23be4550",
   "metadata": {},
   "outputs": [],
   "source": [
    "yp = model.predict(X_test)"
   ]
  },
  {
   "cell_type": "code",
   "execution_count": 157,
   "id": "e1d1f5e9",
   "metadata": {},
   "outputs": [],
   "source": [
    "y_pred = []\n",
    "for element in yp:\n",
    "    if element >= 0.498:\n",
    "        y_pred.append(1)\n",
    "    else:\n",
    "        y_pred.append(0)"
   ]
  },
  {
   "cell_type": "code",
   "execution_count": 158,
   "id": "20fb0354",
   "metadata": {},
   "outputs": [
    {
     "name": "stdout",
     "output_type": "stream",
     "text": [
      "              precision    recall  f1-score   support\n",
      "\n",
      "         0.0       0.50      0.83      0.62      9950\n",
      "         1.0       0.49      0.17      0.25     10050\n",
      "\n",
      "    accuracy                           0.50     20000\n",
      "   macro avg       0.49      0.50      0.43     20000\n",
      "weighted avg       0.49      0.50      0.43     20000\n",
      "\n"
     ]
    }
   ],
   "source": [
    "from sklearn.metrics import confusion_matrix , classification_report\n",
    "\n",
    "print(classification_report(y_test, y_pred))"
   ]
  },
  {
   "cell_type": "code",
   "execution_count": 159,
   "id": "bb2b6139",
   "metadata": {},
   "outputs": [
    {
     "data": {
      "text/plain": [
       "Text(69.0, 0.5, 'Truth')"
      ]
     },
     "execution_count": 159,
     "metadata": {},
     "output_type": "execute_result"
    },
    {
     "data": {
      "image/png": "[encoded data removed]",
      "text/plain": [
       "<Figure size 720x504 with 2 Axes>"
      ]
     },
     "metadata": {
      "needs_background": "light"
     },
     "output_type": "display_data"
    }
   ],
   "source": [
    "import seaborn as sns\n",
    "cm = tf.math.confusion_matrix(labels=y_test,predictions=y_pred)\n",
    "\n",
    "plt.figure(figsize = (10,7))\n",
    "sns.heatmap(cm, annot=True, fmt='d')\n",
    "plt.xlabel('Predicted')\n",
    "plt.ylabel('Truth')"
   ]
  },
  {
   "cell_type": "markdown",
   "id": "3ccb2188",
   "metadata": {},
   "source": [
    "# ML Approach"
   ]
  },
  {
   "cell_type": "code",
   "execution_count": 70,
   "id": "438b5540",
   "metadata": {},
   "outputs": [],
   "source": [
    "df1 = pd.read_csv(\"customer_churn_large_dataset.csv\")"
   ]
  },
  {
   "cell_type": "code",
   "execution_count": 71,
   "id": "6f91f561",
   "metadata": {},
   "outputs": [
    {
     "data": {
      "text/plain": [
       "Age                           float64\n",
       "Gender                         object\n",
       "Location                       object\n",
       "Subscription_Length_Months    float64\n",
       "Monthly_Bill                  float64\n",
       "Total_Usage_GB                float64\n",
       "Churn                         float64\n",
       "dtype: object"
      ]
     },
     "execution_count": 71,
     "metadata": {},
     "output_type": "execute_result"
    }
   ],
   "source": [
    "df1.drop(['CustomerID', 'Name'], axis = 1, inplace = True)\n",
    "df1.dtypes"
   ]
  },
  {
   "cell_type": "code",
   "execution_count": 72,
   "id": "9f3e1410",
   "metadata": {},
   "outputs": [],
   "source": [
    "from sklearn import preprocessing\n",
    "\n",
    "label_encoder = preprocessing.LabelEncoder()\n",
    "\n",
    "df1['Gender']= label_encoder.fit_transform(df1['Gender'])"
   ]
  },
  {
   "cell_type": "code",
   "execution_count": 73,
   "id": "3d8b4e6a",
   "metadata": {},
   "outputs": [],
   "source": [
    "dummies = pd.get_dummies(df1.Location)\n",
    "df1 = pd.concat([df1, dummies], axis = 'columns')\n",
    "df1.drop(['Location','Chicago'], axis = 1 , inplace = True)"
   ]
  },
  {
   "cell_type": "code",
   "execution_count": 74,
   "id": "9148eb26",
   "metadata": {},
   "outputs": [],
   "source": [
    "df1['Data_Cost'] = df1['Monthly_Bill'] / df1['Total_Usage_GB']  "
   ]
  },
  {
   "cell_type": "code",
   "execution_count": 76,
   "id": "1ae6406c",
   "metadata": {},
   "outputs": [
    {
     "data": {
      "text/plain": [
       "<matplotlib.legend.Legend at 0x1735049cfd0>"
      ]
     },
     "execution_count": 76,
     "metadata": {},
     "output_type": "execute_result"
    },
    {
     "data": {
      "image/png": "[encoded data removed]",
      "text/plain": [
       "<Figure size 432x288 with 1 Axes>"
      ]
     },
     "metadata": {
      "needs_background": "light"
     },
     "output_type": "display_data"
    }
   ],
   "source": [
    "churn_no = df1[df1.Churn==0].Data_Cost\n",
    "churn_yes = df1[df1.Churn==1].Data_Cost\n",
    "\n",
    "plt.xlabel(\"Data Cost\")\n",
    "plt.ylabel(\"No. Of Customers\")\n",
    "\n",
    "plt.hist([churn_yes, churn_no], color = ['green', 'red'], label = ['Churn = Yes', 'Churn = No'])\n",
    "plt.legend()"
   ]
  },
  {
   "cell_type": "code",
   "execution_count": 79,
   "id": "0b164920",
   "metadata": {},
   "outputs": [
    {
     "data": {
      "text/plain": [
       "0.0    50221\n",
       "1.0    49779\n",
       "Name: Churn, dtype: int64"
      ]
     },
     "execution_count": 79,
     "metadata": {},
     "output_type": "execute_result"
    }
   ],
   "source": [
    "df1['Churn'].value_counts()"
   ]
  },
  {
   "cell_type": "code",
   "execution_count": 68,
   "id": "5092bdab",
   "metadata": {},
   "outputs": [
    {
     "data": {
      "text/html": [
       "<div>\n",
       "<style scoped>\n",
       "    .dataframe tbody tr th:only-of-type {\n",
       "        vertical-align: middle;\n",
       "    }\n",
       "\n",
       "    .dataframe tbody tr th {\n",
       "        vertical-align: top;\n",
       "    }\n",
       "\n",
       "    .dataframe thead th {\n",
       "        text-align: right;\n",
       "    }\n",
       "</style>\n",
       "<table border=\"1\" class=\"dataframe\">\n",
       "  <thead>\n",
       "    <tr style=\"text-align: right;\">\n",
       "      <th></th>\n",
       "      <th>Age</th>\n",
       "      <th>Gender</th>\n",
       "      <th>Subscription_Length_Months</th>\n",
       "      <th>Monthly_Bill</th>\n",
       "      <th>Total_Usage_GB</th>\n",
       "      <th>Churn</th>\n",
       "      <th>Houston</th>\n",
       "      <th>Los Angeles</th>\n",
       "      <th>Miami</th>\n",
       "      <th>New York</th>\n",
       "      <th>Data Cost</th>\n",
       "    </tr>\n",
       "  </thead>\n",
       "  <tbody>\n",
       "    <tr>\n",
       "      <th>0</th>\n",
       "      <td>63.0</td>\n",
       "      <td>1</td>\n",
       "      <td>17.0</td>\n",
       "      <td>73.36</td>\n",
       "      <td>236.0</td>\n",
       "      <td>0.0</td>\n",
       "      <td>0</td>\n",
       "      <td>1</td>\n",
       "      <td>0</td>\n",
       "      <td>0</td>\n",
       "      <td>0.310847</td>\n",
       "    </tr>\n",
       "    <tr>\n",
       "      <th>1</th>\n",
       "      <td>62.0</td>\n",
       "      <td>0</td>\n",
       "      <td>1.0</td>\n",
       "      <td>48.76</td>\n",
       "      <td>172.0</td>\n",
       "      <td>0.0</td>\n",
       "      <td>0</td>\n",
       "      <td>0</td>\n",
       "      <td>0</td>\n",
       "      <td>1</td>\n",
       "      <td>0.283488</td>\n",
       "    </tr>\n",
       "    <tr>\n",
       "      <th>2</th>\n",
       "      <td>24.0</td>\n",
       "      <td>0</td>\n",
       "      <td>5.0</td>\n",
       "      <td>85.47</td>\n",
       "      <td>460.0</td>\n",
       "      <td>0.0</td>\n",
       "      <td>0</td>\n",
       "      <td>1</td>\n",
       "      <td>0</td>\n",
       "      <td>0</td>\n",
       "      <td>0.185804</td>\n",
       "    </tr>\n",
       "    <tr>\n",
       "      <th>3</th>\n",
       "      <td>36.0</td>\n",
       "      <td>0</td>\n",
       "      <td>3.0</td>\n",
       "      <td>97.94</td>\n",
       "      <td>297.0</td>\n",
       "      <td>1.0</td>\n",
       "      <td>0</td>\n",
       "      <td>0</td>\n",
       "      <td>1</td>\n",
       "      <td>0</td>\n",
       "      <td>0.329764</td>\n",
       "    </tr>\n",
       "    <tr>\n",
       "      <th>4</th>\n",
       "      <td>46.0</td>\n",
       "      <td>0</td>\n",
       "      <td>19.0</td>\n",
       "      <td>58.14</td>\n",
       "      <td>266.0</td>\n",
       "      <td>0.0</td>\n",
       "      <td>0</td>\n",
       "      <td>0</td>\n",
       "      <td>1</td>\n",
       "      <td>0</td>\n",
       "      <td>0.218571</td>\n",
       "    </tr>\n",
       "  </tbody>\n",
       "</table>\n",
       "</div>"
      ],
      "text/plain": [
       "    Age  Gender  Subscription_Length_Months  Monthly_Bill  Total_Usage_GB  \\\n",
       "0  63.0       1                        17.0         73.36           236.0   \n",
       "1  62.0       0                         1.0         48.76           172.0   \n",
       "2  24.0       0                         5.0         85.47           460.0   \n",
       "3  36.0       0                         3.0         97.94           297.0   \n",
       "4  46.0       0                        19.0         58.14           266.0   \n",
       "\n",
       "   Churn  Houston  Los Angeles  Miami  New York  Data Cost  \n",
       "0    0.0        0            1      0         0   0.310847  \n",
       "1    0.0        0            0      0         1   0.283488  \n",
       "2    0.0        0            1      0         0   0.185804  \n",
       "3    1.0        0            0      1         0   0.329764  \n",
       "4    0.0        0            0      1         0   0.218571  "
      ]
     },
     "execution_count": 68,
     "metadata": {},
     "output_type": "execute_result"
    }
   ],
   "source": [
    "df1.head()"
   ]
  },
  {
   "cell_type": "code",
   "execution_count": 225,
   "id": "1ed631cb",
   "metadata": {},
   "outputs": [],
   "source": [
    "from sklearn.model_selection import train_test_split\n",
    "X = df1.drop('Churn', axis = 'columns')\n",
    "y = df1['Churn']\n",
    "X_train, X_test, y_train, y_test = train_test_split(X, y, test_size = 0.2, random_state = 42)"
   ]
  },
  {
   "cell_type": "markdown",
   "id": "755e7df5",
   "metadata": {},
   "source": [
    "### XGBoost"
   ]
  },
  {
   "cell_type": "code",
   "execution_count": 84,
   "id": "2b4299d1",
   "metadata": {},
   "outputs": [
    {
     "data": {
      "text/plain": [
       "XGBClassifier(base_score=None, booster=None, callbacks=None,\n",
       "              colsample_bylevel=None, colsample_bynode=None,\n",
       "              colsample_bytree=None, early_stopping_rounds=None,\n",
       "              enable_categorical=False, eval_metric=None, feature_types=None,\n",
       "              gamma=None, gpu_id=None, grow_policy=None, importance_type=None,\n",
       "              interaction_constraints=None, learning_rate=None, max_bin=None,\n",
       "              max_cat_threshold=None, max_cat_to_onehot=None,\n",
       "              max_delta_step=None, max_depth=None, max_leaves=None,\n",
       "              min_child_weight=None, missing=nan, monotone_constraints=None,\n",
       "              n_estimators=100, n_jobs=None, num_parallel_tree=None,\n",
       "              predictor=None, random_state=None, ...)"
      ]
     },
     "execution_count": 84,
     "metadata": {},
     "output_type": "execute_result"
    }
   ],
   "source": [
    "from xgboost import XGBClassifier\n",
    "model_xgb = XGBClassifier()\n",
    "model_xgb.fit(X_train, y_train)"
   ]
  },
  {
   "cell_type": "code",
   "execution_count": 85,
   "id": "bef805c7",
   "metadata": {},
   "outputs": [
    {
     "data": {
      "text/plain": [
       "array([1, 1, 0, ..., 0, 1, 1])"
      ]
     },
     "execution_count": 85,
     "metadata": {},
     "output_type": "execute_result"
    }
   ],
   "source": [
    "model_xgb.predict(X_test)"
   ]
  },
  {
   "cell_type": "code",
   "execution_count": 86,
   "id": "d25cc34d",
   "metadata": {},
   "outputs": [
    {
     "data": {
      "text/plain": [
       "0.50115"
      ]
     },
     "execution_count": 86,
     "metadata": {},
     "output_type": "execute_result"
    }
   ],
   "source": [
    "model_xgb.score(X_test, y_test)"
   ]
  },
  {
   "cell_type": "markdown",
   "id": "d1893671",
   "metadata": {},
   "source": [
    "### CatBoost"
   ]
  },
  {
   "cell_type": "code",
   "execution_count": 87,
   "id": "aa55aa0d",
   "metadata": {},
   "outputs": [
    {
     "name": "stdout",
     "output_type": "stream",
     "text": [
      "Learning rate set to 0.06692\n",
      "0:\tlearn: 0.6930818\ttotal: 14ms\tremaining: 14s\n",
      "1:\tlearn: 0.6930406\ttotal: 27.1ms\tremaining: 13.5s\n",
      "2:\tlearn: 0.6930072\ttotal: 39.7ms\tremaining: 13.2s\n",
      "3:\tlearn: 0.6929464\ttotal: 51.9ms\tremaining: 12.9s\n",
      "4:\tlearn: 0.6928967\ttotal: 65ms\tremaining: 12.9s\n",
      "5:\tlearn: 0.6928683\ttotal: 75.2ms\tremaining: 12.5s\n",
      "6:\tlearn: 0.6927935\ttotal: 85.9ms\tremaining: 12.2s\n",
      "7:\tlearn: 0.6927435\ttotal: 98.3ms\tremaining: 12.2s\n",
      "8:\tlearn: 0.6927018\ttotal: 110ms\tremaining: 12.1s\n",
      "9:\tlearn: 0.6926529\ttotal: 121ms\tremaining: 11.9s\n",
      "10:\tlearn: 0.6926097\ttotal: 131ms\tremaining: 11.8s\n",
      "11:\tlearn: 0.6925584\ttotal: 142ms\tremaining: 11.7s\n",
      "12:\tlearn: 0.6925311\ttotal: 152ms\tremaining: 11.6s\n",
      "13:\tlearn: 0.6924633\ttotal: 164ms\tremaining: 11.6s\n",
      "14:\tlearn: 0.6924268\ttotal: 176ms\tremaining: 11.5s\n",
      "15:\tlearn: 0.6923854\ttotal: 188ms\tremaining: 11.6s\n",
      "16:\tlearn: 0.6923418\ttotal: 203ms\tremaining: 11.8s\n",
      "17:\tlearn: 0.6922910\ttotal: 221ms\tremaining: 12s\n",
      "18:\tlearn: 0.6922537\ttotal: 232ms\tremaining: 12s\n",
      "19:\tlearn: 0.6922103\ttotal: 247ms\tremaining: 12.1s\n",
      "20:\tlearn: 0.6921516\ttotal: 260ms\tremaining: 12.1s\n",
      "21:\tlearn: 0.6921172\ttotal: 271ms\tremaining: 12.1s\n",
      "22:\tlearn: 0.6920996\ttotal: 284ms\tremaining: 12.1s\n",
      "23:\tlearn: 0.6920603\ttotal: 297ms\tremaining: 12.1s\n",
      "24:\tlearn: 0.6920291\ttotal: 310ms\tremaining: 12.1s\n",
      "25:\tlearn: 0.6919776\ttotal: 323ms\tremaining: 12.1s\n",
      "26:\tlearn: 0.6919426\ttotal: 336ms\tremaining: 12.1s\n",
      "27:\tlearn: 0.6919155\ttotal: 352ms\tremaining: 12.2s\n",
      "28:\tlearn: 0.6918597\ttotal: 371ms\tremaining: 12.4s\n",
      "29:\tlearn: 0.6918095\ttotal: 390ms\tremaining: 12.6s\n",
      "30:\tlearn: 0.6917672\ttotal: 408ms\tremaining: 12.8s\n",
      "31:\tlearn: 0.6917115\ttotal: 434ms\tremaining: 13.1s\n",
      "32:\tlearn: 0.6916784\ttotal: 458ms\tremaining: 13.4s\n",
      "33:\tlearn: 0.6916360\ttotal: 476ms\tremaining: 13.5s\n",
      "34:\tlearn: 0.6916054\ttotal: 502ms\tremaining: 13.8s\n",
      "35:\tlearn: 0.6915627\ttotal: 527ms\tremaining: 14.1s\n",
      "36:\tlearn: 0.6915305\ttotal: 553ms\tremaining: 14.4s\n",
      "37:\tlearn: 0.6915010\ttotal: 572ms\tremaining: 14.5s\n",
      "38:\tlearn: 0.6914668\ttotal: 589ms\tremaining: 14.5s\n",
      "39:\tlearn: 0.6914301\ttotal: 607ms\tremaining: 14.6s\n",
      "40:\tlearn: 0.6914280\ttotal: 618ms\tremaining: 14.5s\n",
      "41:\tlearn: 0.6913926\ttotal: 633ms\tremaining: 14.4s\n",
      "42:\tlearn: 0.6913488\ttotal: 647ms\tremaining: 14.4s\n",
      "43:\tlearn: 0.6912905\ttotal: 660ms\tremaining: 14.3s\n",
      "44:\tlearn: 0.6912862\ttotal: 670ms\tremaining: 14.2s\n",
      "45:\tlearn: 0.6912326\ttotal: 682ms\tremaining: 14.1s\n",
      "46:\tlearn: 0.6911823\ttotal: 694ms\tremaining: 14.1s\n",
      "47:\tlearn: 0.6911404\ttotal: 705ms\tremaining: 14s\n",
      "48:\tlearn: 0.6911084\ttotal: 717ms\tremaining: 13.9s\n",
      "49:\tlearn: 0.6910728\ttotal: 730ms\tremaining: 13.9s\n",
      "50:\tlearn: 0.6910376\ttotal: 741ms\tremaining: 13.8s\n",
      "51:\tlearn: 0.6909890\ttotal: 753ms\tremaining: 13.7s\n",
      "52:\tlearn: 0.6909511\ttotal: 765ms\tremaining: 13.7s\n",
      "53:\tlearn: 0.6908956\ttotal: 778ms\tremaining: 13.6s\n",
      "54:\tlearn: 0.6908632\ttotal: 790ms\tremaining: 13.6s\n",
      "55:\tlearn: 0.6908420\ttotal: 806ms\tremaining: 13.6s\n",
      "56:\tlearn: 0.6908184\ttotal: 819ms\tremaining: 13.6s\n",
      "57:\tlearn: 0.6907895\ttotal: 834ms\tremaining: 13.5s\n",
      "58:\tlearn: 0.6907561\ttotal: 847ms\tremaining: 13.5s\n",
      "59:\tlearn: 0.6907205\ttotal: 860ms\tremaining: 13.5s\n",
      "60:\tlearn: 0.6906813\ttotal: 878ms\tremaining: 13.5s\n",
      "61:\tlearn: 0.6906399\ttotal: 897ms\tremaining: 13.6s\n",
      "62:\tlearn: 0.6905882\ttotal: 916ms\tremaining: 13.6s\n",
      "63:\tlearn: 0.6905708\ttotal: 931ms\tremaining: 13.6s\n",
      "64:\tlearn: 0.6905526\ttotal: 946ms\tremaining: 13.6s\n",
      "65:\tlearn: 0.6905209\ttotal: 967ms\tremaining: 13.7s\n",
      "66:\tlearn: 0.6904777\ttotal: 988ms\tremaining: 13.8s\n",
      "67:\tlearn: 0.6904232\ttotal: 1.01s\tremaining: 13.9s\n",
      "68:\tlearn: 0.6904008\ttotal: 1.03s\tremaining: 13.9s\n",
      "69:\tlearn: 0.6903587\ttotal: 1.05s\tremaining: 14s\n",
      "70:\tlearn: 0.6903183\ttotal: 1.07s\tremaining: 14.1s\n",
      "71:\tlearn: 0.6902921\ttotal: 1.09s\tremaining: 14.1s\n",
      "72:\tlearn: 0.6902484\ttotal: 1.1s\tremaining: 14s\n",
      "73:\tlearn: 0.6902213\ttotal: 1.12s\tremaining: 14s\n",
      "74:\tlearn: 0.6901830\ttotal: 1.13s\tremaining: 14s\n",
      "75:\tlearn: 0.6901686\ttotal: 1.14s\tremaining: 13.9s\n",
      "76:\tlearn: 0.6901395\ttotal: 1.16s\tremaining: 13.9s\n",
      "77:\tlearn: 0.6901074\ttotal: 1.17s\tremaining: 13.8s\n",
      "78:\tlearn: 0.6900996\ttotal: 1.19s\tremaining: 13.9s\n",
      "79:\tlearn: 0.6900468\ttotal: 1.21s\tremaining: 14s\n",
      "80:\tlearn: 0.6900074\ttotal: 1.23s\tremaining: 14s\n",
      "81:\tlearn: 0.6899642\ttotal: 1.26s\tremaining: 14.1s\n",
      "82:\tlearn: 0.6899281\ttotal: 1.28s\tremaining: 14.1s\n",
      "83:\tlearn: 0.6898793\ttotal: 1.29s\tremaining: 14.1s\n",
      "84:\tlearn: 0.6898438\ttotal: 1.31s\tremaining: 14.2s\n",
      "85:\tlearn: 0.6898138\ttotal: 1.34s\tremaining: 14.2s\n",
      "86:\tlearn: 0.6897783\ttotal: 1.35s\tremaining: 14.2s\n",
      "87:\tlearn: 0.6897439\ttotal: 1.37s\tremaining: 14.2s\n",
      "88:\tlearn: 0.6897067\ttotal: 1.38s\tremaining: 14.2s\n",
      "89:\tlearn: 0.6896623\ttotal: 1.4s\tremaining: 14.1s\n",
      "90:\tlearn: 0.6896166\ttotal: 1.41s\tremaining: 14.1s\n",
      "91:\tlearn: 0.6895859\ttotal: 1.42s\tremaining: 14s\n",
      "92:\tlearn: 0.6895619\ttotal: 1.43s\tremaining: 14s\n",
      "93:\tlearn: 0.6895310\ttotal: 1.45s\tremaining: 13.9s\n",
      "94:\tlearn: 0.6894903\ttotal: 1.46s\tremaining: 13.9s\n",
      "95:\tlearn: 0.6894531\ttotal: 1.47s\tremaining: 13.8s\n",
      "96:\tlearn: 0.6894084\ttotal: 1.48s\tremaining: 13.8s\n",
      "97:\tlearn: 0.6893786\ttotal: 1.49s\tremaining: 13.7s\n",
      "98:\tlearn: 0.6893458\ttotal: 1.5s\tremaining: 13.7s\n",
      "99:\tlearn: 0.6893073\ttotal: 1.51s\tremaining: 13.6s\n",
      "100:\tlearn: 0.6892935\ttotal: 1.52s\tremaining: 13.6s\n",
      "101:\tlearn: 0.6892464\ttotal: 1.54s\tremaining: 13.5s\n",
      "102:\tlearn: 0.6892044\ttotal: 1.55s\tremaining: 13.5s\n",
      "103:\tlearn: 0.6891623\ttotal: 1.57s\tremaining: 13.5s\n",
      "104:\tlearn: 0.6891256\ttotal: 1.58s\tremaining: 13.5s\n",
      "105:\tlearn: 0.6890799\ttotal: 1.6s\tremaining: 13.5s\n",
      "106:\tlearn: 0.6890524\ttotal: 1.62s\tremaining: 13.5s\n",
      "107:\tlearn: 0.6890232\ttotal: 1.64s\tremaining: 13.5s\n",
      "108:\tlearn: 0.6889766\ttotal: 1.65s\tremaining: 13.5s\n",
      "109:\tlearn: 0.6889274\ttotal: 1.67s\tremaining: 13.5s\n",
      "110:\tlearn: 0.6888957\ttotal: 1.7s\tremaining: 13.6s\n",
      "111:\tlearn: 0.6888634\ttotal: 1.72s\tremaining: 13.6s\n",
      "112:\tlearn: 0.6888378\ttotal: 1.73s\tremaining: 13.6s\n",
      "113:\tlearn: 0.6887967\ttotal: 1.75s\tremaining: 13.6s\n",
      "114:\tlearn: 0.6887774\ttotal: 1.76s\tremaining: 13.5s\n",
      "115:\tlearn: 0.6887366\ttotal: 1.77s\tremaining: 13.5s\n",
      "116:\tlearn: 0.6887016\ttotal: 1.79s\tremaining: 13.5s\n",
      "117:\tlearn: 0.6886588\ttotal: 1.81s\tremaining: 13.5s\n",
      "118:\tlearn: 0.6886394\ttotal: 1.83s\tremaining: 13.5s\n",
      "119:\tlearn: 0.6886097\ttotal: 1.84s\tremaining: 13.5s\n",
      "120:\tlearn: 0.6885842\ttotal: 1.86s\tremaining: 13.5s\n",
      "121:\tlearn: 0.6885610\ttotal: 1.87s\tremaining: 13.5s\n",
      "122:\tlearn: 0.6885394\ttotal: 1.88s\tremaining: 13.4s\n",
      "123:\tlearn: 0.6884875\ttotal: 1.9s\tremaining: 13.4s\n",
      "124:\tlearn: 0.6884292\ttotal: 1.91s\tremaining: 13.4s\n",
      "125:\tlearn: 0.6884040\ttotal: 1.93s\tremaining: 13.4s\n",
      "126:\tlearn: 0.6883618\ttotal: 1.94s\tremaining: 13.4s\n",
      "127:\tlearn: 0.6883596\ttotal: 1.95s\tremaining: 13.3s\n",
      "128:\tlearn: 0.6883268\ttotal: 1.96s\tremaining: 13.3s\n",
      "129:\tlearn: 0.6883118\ttotal: 1.98s\tremaining: 13.2s\n",
      "130:\tlearn: 0.6882847\ttotal: 1.99s\tremaining: 13.2s\n",
      "131:\tlearn: 0.6882567\ttotal: 2s\tremaining: 13.2s\n",
      "132:\tlearn: 0.6882244\ttotal: 2.02s\tremaining: 13.2s\n",
      "133:\tlearn: 0.6881813\ttotal: 2.03s\tremaining: 13.1s\n",
      "134:\tlearn: 0.6881501\ttotal: 2.04s\tremaining: 13.1s\n",
      "135:\tlearn: 0.6881386\ttotal: 2.06s\tremaining: 13.1s\n",
      "136:\tlearn: 0.6881307\ttotal: 2.06s\tremaining: 13s\n",
      "137:\tlearn: 0.6880936\ttotal: 2.08s\tremaining: 13s\n",
      "138:\tlearn: 0.6880717\ttotal: 2.09s\tremaining: 12.9s\n",
      "139:\tlearn: 0.6880400\ttotal: 2.1s\tremaining: 12.9s\n",
      "140:\tlearn: 0.6880135\ttotal: 2.11s\tremaining: 12.9s\n",
      "141:\tlearn: 0.6879780\ttotal: 2.12s\tremaining: 12.8s\n",
      "142:\tlearn: 0.6879556\ttotal: 2.13s\tremaining: 12.8s\n",
      "143:\tlearn: 0.6879331\ttotal: 2.15s\tremaining: 12.8s\n",
      "144:\tlearn: 0.6879141\ttotal: 2.16s\tremaining: 12.7s\n",
      "145:\tlearn: 0.6878844\ttotal: 2.17s\tremaining: 12.7s\n",
      "146:\tlearn: 0.6878546\ttotal: 2.18s\tremaining: 12.7s\n",
      "147:\tlearn: 0.6878082\ttotal: 2.2s\tremaining: 12.7s\n",
      "148:\tlearn: 0.6877715\ttotal: 2.21s\tremaining: 12.6s\n",
      "149:\tlearn: 0.6877192\ttotal: 2.23s\tremaining: 12.6s\n",
      "150:\tlearn: 0.6876968\ttotal: 2.24s\tremaining: 12.6s\n",
      "151:\tlearn: 0.6876452\ttotal: 2.25s\tremaining: 12.6s\n",
      "152:\tlearn: 0.6876037\ttotal: 2.26s\tremaining: 12.5s\n",
      "153:\tlearn: 0.6875535\ttotal: 2.27s\tremaining: 12.5s\n",
      "154:\tlearn: 0.6875163\ttotal: 2.29s\tremaining: 12.5s\n",
      "155:\tlearn: 0.6874738\ttotal: 2.3s\tremaining: 12.4s\n",
      "156:\tlearn: 0.6874386\ttotal: 2.31s\tremaining: 12.4s\n",
      "157:\tlearn: 0.6874044\ttotal: 2.32s\tremaining: 12.4s\n",
      "158:\tlearn: 0.6873632\ttotal: 2.34s\tremaining: 12.4s\n",
      "159:\tlearn: 0.6873400\ttotal: 2.35s\tremaining: 12.3s\n",
      "160:\tlearn: 0.6872888\ttotal: 2.36s\tremaining: 12.3s\n"
     ]
    },
    {
     "name": "stdout",
     "output_type": "stream",
     "text": [
      "161:\tlearn: 0.6872603\ttotal: 2.37s\tremaining: 12.3s\n",
      "162:\tlearn: 0.6872215\ttotal: 2.38s\tremaining: 12.2s\n",
      "163:\tlearn: 0.6871977\ttotal: 2.4s\tremaining: 12.2s\n",
      "164:\tlearn: 0.6871687\ttotal: 2.41s\tremaining: 12.2s\n",
      "165:\tlearn: 0.6871284\ttotal: 2.42s\tremaining: 12.2s\n",
      "166:\tlearn: 0.6870922\ttotal: 2.43s\tremaining: 12.1s\n",
      "167:\tlearn: 0.6870463\ttotal: 2.45s\tremaining: 12.1s\n",
      "168:\tlearn: 0.6869933\ttotal: 2.47s\tremaining: 12.1s\n",
      "169:\tlearn: 0.6869503\ttotal: 2.49s\tremaining: 12.1s\n",
      "170:\tlearn: 0.6869026\ttotal: 2.5s\tremaining: 12.1s\n",
      "171:\tlearn: 0.6868561\ttotal: 2.52s\tremaining: 12.1s\n",
      "172:\tlearn: 0.6868193\ttotal: 2.54s\tremaining: 12.2s\n",
      "173:\tlearn: 0.6867751\ttotal: 2.56s\tremaining: 12.2s\n",
      "174:\tlearn: 0.6867403\ttotal: 2.58s\tremaining: 12.2s\n",
      "175:\tlearn: 0.6866882\ttotal: 2.61s\tremaining: 12.2s\n",
      "176:\tlearn: 0.6866402\ttotal: 2.62s\tremaining: 12.2s\n",
      "177:\tlearn: 0.6865882\ttotal: 2.63s\tremaining: 12.2s\n",
      "178:\tlearn: 0.6865458\ttotal: 2.65s\tremaining: 12.1s\n",
      "179:\tlearn: 0.6865128\ttotal: 2.66s\tremaining: 12.1s\n",
      "180:\tlearn: 0.6864585\ttotal: 2.67s\tremaining: 12.1s\n",
      "181:\tlearn: 0.6864208\ttotal: 2.68s\tremaining: 12.1s\n",
      "182:\tlearn: 0.6863838\ttotal: 2.7s\tremaining: 12s\n",
      "183:\tlearn: 0.6863427\ttotal: 2.71s\tremaining: 12s\n",
      "184:\tlearn: 0.6863178\ttotal: 2.72s\tremaining: 12s\n",
      "185:\tlearn: 0.6862918\ttotal: 2.73s\tremaining: 12s\n",
      "186:\tlearn: 0.6862549\ttotal: 2.74s\tremaining: 11.9s\n",
      "187:\tlearn: 0.6861918\ttotal: 2.76s\tremaining: 11.9s\n",
      "188:\tlearn: 0.6861487\ttotal: 2.77s\tremaining: 11.9s\n",
      "189:\tlearn: 0.6861103\ttotal: 2.78s\tremaining: 11.9s\n",
      "190:\tlearn: 0.6860659\ttotal: 2.79s\tremaining: 11.8s\n",
      "191:\tlearn: 0.6860294\ttotal: 2.81s\tremaining: 11.8s\n",
      "192:\tlearn: 0.6859960\ttotal: 2.82s\tremaining: 11.8s\n",
      "193:\tlearn: 0.6859682\ttotal: 2.83s\tremaining: 11.8s\n",
      "194:\tlearn: 0.6859340\ttotal: 2.84s\tremaining: 11.7s\n",
      "195:\tlearn: 0.6858935\ttotal: 2.85s\tremaining: 11.7s\n",
      "196:\tlearn: 0.6858427\ttotal: 2.87s\tremaining: 11.7s\n",
      "197:\tlearn: 0.6857938\ttotal: 2.88s\tremaining: 11.7s\n",
      "198:\tlearn: 0.6857582\ttotal: 2.89s\tremaining: 11.6s\n",
      "199:\tlearn: 0.6857160\ttotal: 2.9s\tremaining: 11.6s\n",
      "200:\tlearn: 0.6856659\ttotal: 2.92s\tremaining: 11.6s\n",
      "201:\tlearn: 0.6856158\ttotal: 2.93s\tremaining: 11.6s\n",
      "202:\tlearn: 0.6855561\ttotal: 2.94s\tremaining: 11.5s\n",
      "203:\tlearn: 0.6855093\ttotal: 2.95s\tremaining: 11.5s\n",
      "204:\tlearn: 0.6854649\ttotal: 2.96s\tremaining: 11.5s\n",
      "205:\tlearn: 0.6854233\ttotal: 2.98s\tremaining: 11.5s\n",
      "206:\tlearn: 0.6853567\ttotal: 2.99s\tremaining: 11.5s\n",
      "207:\tlearn: 0.6853137\ttotal: 3s\tremaining: 11.4s\n",
      "208:\tlearn: 0.6852765\ttotal: 3.02s\tremaining: 11.4s\n",
      "209:\tlearn: 0.6852384\ttotal: 3.03s\tremaining: 11.4s\n",
      "210:\tlearn: 0.6851778\ttotal: 3.04s\tremaining: 11.4s\n",
      "211:\tlearn: 0.6851472\ttotal: 3.05s\tremaining: 11.3s\n",
      "212:\tlearn: 0.6851173\ttotal: 3.07s\tremaining: 11.3s\n",
      "213:\tlearn: 0.6850679\ttotal: 3.08s\tremaining: 11.3s\n",
      "214:\tlearn: 0.6850271\ttotal: 3.09s\tremaining: 11.3s\n",
      "215:\tlearn: 0.6849963\ttotal: 3.1s\tremaining: 11.3s\n",
      "216:\tlearn: 0.6849496\ttotal: 3.12s\tremaining: 11.3s\n",
      "217:\tlearn: 0.6849027\ttotal: 3.13s\tremaining: 11.2s\n",
      "218:\tlearn: 0.6848513\ttotal: 3.15s\tremaining: 11.2s\n",
      "219:\tlearn: 0.6847975\ttotal: 3.16s\tremaining: 11.2s\n",
      "220:\tlearn: 0.6847558\ttotal: 3.17s\tremaining: 11.2s\n",
      "221:\tlearn: 0.6847130\ttotal: 3.19s\tremaining: 11.2s\n",
      "222:\tlearn: 0.6846833\ttotal: 3.2s\tremaining: 11.2s\n",
      "223:\tlearn: 0.6846454\ttotal: 3.22s\tremaining: 11.1s\n",
      "224:\tlearn: 0.6846052\ttotal: 3.23s\tremaining: 11.1s\n",
      "225:\tlearn: 0.6845683\ttotal: 3.24s\tremaining: 11.1s\n",
      "226:\tlearn: 0.6845263\ttotal: 3.25s\tremaining: 11.1s\n",
      "227:\tlearn: 0.6844804\ttotal: 3.27s\tremaining: 11.1s\n",
      "228:\tlearn: 0.6844370\ttotal: 3.28s\tremaining: 11.1s\n",
      "229:\tlearn: 0.6843903\ttotal: 3.3s\tremaining: 11s\n",
      "230:\tlearn: 0.6843347\ttotal: 3.31s\tremaining: 11s\n",
      "231:\tlearn: 0.6842861\ttotal: 3.32s\tremaining: 11s\n",
      "232:\tlearn: 0.6842537\ttotal: 3.34s\tremaining: 11s\n",
      "233:\tlearn: 0.6842059\ttotal: 3.35s\tremaining: 11s\n",
      "234:\tlearn: 0.6841755\ttotal: 3.37s\tremaining: 11s\n",
      "235:\tlearn: 0.6841329\ttotal: 3.38s\tremaining: 10.9s\n",
      "236:\tlearn: 0.6840986\ttotal: 3.39s\tremaining: 10.9s\n",
      "237:\tlearn: 0.6840605\ttotal: 3.4s\tremaining: 10.9s\n",
      "238:\tlearn: 0.6840127\ttotal: 3.42s\tremaining: 10.9s\n",
      "239:\tlearn: 0.6839755\ttotal: 3.43s\tremaining: 10.9s\n",
      "240:\tlearn: 0.6839291\ttotal: 3.44s\tremaining: 10.8s\n",
      "241:\tlearn: 0.6838818\ttotal: 3.45s\tremaining: 10.8s\n",
      "242:\tlearn: 0.6838476\ttotal: 3.46s\tremaining: 10.8s\n",
      "243:\tlearn: 0.6838064\ttotal: 3.48s\tremaining: 10.8s\n",
      "244:\tlearn: 0.6837611\ttotal: 3.49s\tremaining: 10.8s\n",
      "245:\tlearn: 0.6837165\ttotal: 3.51s\tremaining: 10.7s\n",
      "246:\tlearn: 0.6836674\ttotal: 3.52s\tremaining: 10.7s\n",
      "247:\tlearn: 0.6836341\ttotal: 3.54s\tremaining: 10.7s\n",
      "248:\tlearn: 0.6836042\ttotal: 3.55s\tremaining: 10.7s\n",
      "249:\tlearn: 0.6835619\ttotal: 3.56s\tremaining: 10.7s\n",
      "250:\tlearn: 0.6835103\ttotal: 3.58s\tremaining: 10.7s\n",
      "251:\tlearn: 0.6834721\ttotal: 3.59s\tremaining: 10.7s\n",
      "252:\tlearn: 0.6834251\ttotal: 3.6s\tremaining: 10.6s\n",
      "253:\tlearn: 0.6833835\ttotal: 3.62s\tremaining: 10.6s\n",
      "254:\tlearn: 0.6833507\ttotal: 3.63s\tremaining: 10.6s\n",
      "255:\tlearn: 0.6833073\ttotal: 3.64s\tremaining: 10.6s\n",
      "256:\tlearn: 0.6832601\ttotal: 3.65s\tremaining: 10.6s\n",
      "257:\tlearn: 0.6832164\ttotal: 3.66s\tremaining: 10.5s\n",
      "258:\tlearn: 0.6831904\ttotal: 3.68s\tremaining: 10.5s\n",
      "259:\tlearn: 0.6831414\ttotal: 3.69s\tremaining: 10.5s\n",
      "260:\tlearn: 0.6830988\ttotal: 3.7s\tremaining: 10.5s\n",
      "261:\tlearn: 0.6830464\ttotal: 3.71s\tremaining: 10.5s\n",
      "262:\tlearn: 0.6830246\ttotal: 3.73s\tremaining: 10.4s\n",
      "263:\tlearn: 0.6829822\ttotal: 3.74s\tremaining: 10.4s\n",
      "264:\tlearn: 0.6829440\ttotal: 3.75s\tremaining: 10.4s\n",
      "265:\tlearn: 0.6829056\ttotal: 3.77s\tremaining: 10.4s\n",
      "266:\tlearn: 0.6828436\ttotal: 3.78s\tremaining: 10.4s\n",
      "267:\tlearn: 0.6828042\ttotal: 3.79s\tremaining: 10.4s\n",
      "268:\tlearn: 0.6827550\ttotal: 3.8s\tremaining: 10.3s\n",
      "269:\tlearn: 0.6827203\ttotal: 3.81s\tremaining: 10.3s\n",
      "270:\tlearn: 0.6826800\ttotal: 3.83s\tremaining: 10.3s\n",
      "271:\tlearn: 0.6826547\ttotal: 3.85s\tremaining: 10.3s\n",
      "272:\tlearn: 0.6826159\ttotal: 3.86s\tremaining: 10.3s\n",
      "273:\tlearn: 0.6825766\ttotal: 3.87s\tremaining: 10.3s\n",
      "274:\tlearn: 0.6825448\ttotal: 3.89s\tremaining: 10.2s\n",
      "275:\tlearn: 0.6825066\ttotal: 3.9s\tremaining: 10.2s\n",
      "276:\tlearn: 0.6824714\ttotal: 3.91s\tremaining: 10.2s\n",
      "277:\tlearn: 0.6824381\ttotal: 3.93s\tremaining: 10.2s\n",
      "278:\tlearn: 0.6823960\ttotal: 3.94s\tremaining: 10.2s\n",
      "279:\tlearn: 0.6823447\ttotal: 3.96s\tremaining: 10.2s\n",
      "280:\tlearn: 0.6823144\ttotal: 3.97s\tremaining: 10.2s\n",
      "281:\tlearn: 0.6822803\ttotal: 3.98s\tremaining: 10.1s\n",
      "282:\tlearn: 0.6822345\ttotal: 3.99s\tremaining: 10.1s\n",
      "283:\tlearn: 0.6821920\ttotal: 4s\tremaining: 10.1s\n",
      "284:\tlearn: 0.6821432\ttotal: 4.02s\tremaining: 10.1s\n",
      "285:\tlearn: 0.6821079\ttotal: 4.03s\tremaining: 10.1s\n",
      "286:\tlearn: 0.6820605\ttotal: 4.04s\tremaining: 10s\n",
      "287:\tlearn: 0.6820097\ttotal: 4.05s\tremaining: 10s\n",
      "288:\tlearn: 0.6819729\ttotal: 4.06s\tremaining: 10s\n",
      "289:\tlearn: 0.6819391\ttotal: 4.08s\tremaining: 9.98s\n",
      "290:\tlearn: 0.6819006\ttotal: 4.09s\tremaining: 9.96s\n",
      "291:\tlearn: 0.6818736\ttotal: 4.1s\tremaining: 9.94s\n",
      "292:\tlearn: 0.6818301\ttotal: 4.11s\tremaining: 9.92s\n",
      "293:\tlearn: 0.6817944\ttotal: 4.12s\tremaining: 9.9s\n",
      "294:\tlearn: 0.6817603\ttotal: 4.14s\tremaining: 9.89s\n",
      "295:\tlearn: 0.6817191\ttotal: 4.15s\tremaining: 9.87s\n",
      "296:\tlearn: 0.6816791\ttotal: 4.16s\tremaining: 9.85s\n",
      "297:\tlearn: 0.6816489\ttotal: 4.17s\tremaining: 9.83s\n",
      "298:\tlearn: 0.6816129\ttotal: 4.19s\tremaining: 9.82s\n",
      "299:\tlearn: 0.6815700\ttotal: 4.2s\tremaining: 9.8s\n",
      "300:\tlearn: 0.6815321\ttotal: 4.21s\tremaining: 9.78s\n",
      "301:\tlearn: 0.6814973\ttotal: 4.22s\tremaining: 9.76s\n",
      "302:\tlearn: 0.6814580\ttotal: 4.24s\tremaining: 9.74s\n",
      "303:\tlearn: 0.6814105\ttotal: 4.25s\tremaining: 9.72s\n",
      "304:\tlearn: 0.6813794\ttotal: 4.26s\tremaining: 9.7s\n",
      "305:\tlearn: 0.6813350\ttotal: 4.27s\tremaining: 9.69s\n",
      "306:\tlearn: 0.6812961\ttotal: 4.28s\tremaining: 9.66s\n",
      "307:\tlearn: 0.6812472\ttotal: 4.29s\tremaining: 9.65s\n",
      "308:\tlearn: 0.6812009\ttotal: 4.31s\tremaining: 9.63s\n",
      "309:\tlearn: 0.6811673\ttotal: 4.32s\tremaining: 9.61s\n",
      "310:\tlearn: 0.6811336\ttotal: 4.33s\tremaining: 9.6s\n",
      "311:\tlearn: 0.6810926\ttotal: 4.34s\tremaining: 9.58s\n",
      "312:\tlearn: 0.6810511\ttotal: 4.36s\tremaining: 9.56s\n",
      "313:\tlearn: 0.6810124\ttotal: 4.37s\tremaining: 9.55s\n",
      "314:\tlearn: 0.6809694\ttotal: 4.38s\tremaining: 9.54s\n",
      "315:\tlearn: 0.6809229\ttotal: 4.4s\tremaining: 9.52s\n",
      "316:\tlearn: 0.6808891\ttotal: 4.41s\tremaining: 9.51s\n",
      "317:\tlearn: 0.6808364\ttotal: 4.42s\tremaining: 9.49s\n",
      "318:\tlearn: 0.6807914\ttotal: 4.44s\tremaining: 9.48s\n",
      "319:\tlearn: 0.6807716\ttotal: 4.45s\tremaining: 9.46s\n",
      "320:\tlearn: 0.6807299\ttotal: 4.46s\tremaining: 9.44s\n",
      "321:\tlearn: 0.6806963\ttotal: 4.48s\tremaining: 9.43s\n",
      "322:\tlearn: 0.6806589\ttotal: 4.49s\tremaining: 9.41s\n",
      "323:\tlearn: 0.6806226\ttotal: 4.5s\tremaining: 9.39s\n",
      "324:\tlearn: 0.6805706\ttotal: 4.52s\tremaining: 9.38s\n"
     ]
    },
    {
     "name": "stdout",
     "output_type": "stream",
     "text": [
      "325:\tlearn: 0.6805176\ttotal: 4.53s\tremaining: 9.37s\n",
      "326:\tlearn: 0.6804923\ttotal: 4.54s\tremaining: 9.35s\n",
      "327:\tlearn: 0.6804370\ttotal: 4.56s\tremaining: 9.34s\n",
      "328:\tlearn: 0.6804000\ttotal: 4.57s\tremaining: 9.33s\n",
      "329:\tlearn: 0.6803594\ttotal: 4.59s\tremaining: 9.31s\n",
      "330:\tlearn: 0.6803086\ttotal: 4.6s\tremaining: 9.3s\n",
      "331:\tlearn: 0.6802587\ttotal: 4.61s\tremaining: 9.28s\n",
      "332:\tlearn: 0.6802231\ttotal: 4.63s\tremaining: 9.27s\n",
      "333:\tlearn: 0.6801724\ttotal: 4.64s\tremaining: 9.25s\n",
      "334:\tlearn: 0.6801368\ttotal: 4.65s\tremaining: 9.24s\n",
      "335:\tlearn: 0.6800900\ttotal: 4.67s\tremaining: 9.22s\n",
      "336:\tlearn: 0.6800385\ttotal: 4.68s\tremaining: 9.21s\n",
      "337:\tlearn: 0.6799924\ttotal: 4.69s\tremaining: 9.19s\n",
      "338:\tlearn: 0.6799606\ttotal: 4.71s\tremaining: 9.18s\n",
      "339:\tlearn: 0.6799169\ttotal: 4.72s\tremaining: 9.16s\n",
      "340:\tlearn: 0.6798698\ttotal: 4.73s\tremaining: 9.15s\n",
      "341:\tlearn: 0.6798366\ttotal: 4.75s\tremaining: 9.13s\n",
      "342:\tlearn: 0.6797828\ttotal: 4.76s\tremaining: 9.12s\n",
      "343:\tlearn: 0.6797368\ttotal: 4.77s\tremaining: 9.1s\n",
      "344:\tlearn: 0.6797052\ttotal: 4.78s\tremaining: 9.08s\n",
      "345:\tlearn: 0.6796540\ttotal: 4.8s\tremaining: 9.07s\n",
      "346:\tlearn: 0.6796099\ttotal: 4.81s\tremaining: 9.05s\n",
      "347:\tlearn: 0.6795731\ttotal: 4.82s\tremaining: 9.03s\n",
      "348:\tlearn: 0.6795276\ttotal: 4.83s\tremaining: 9.01s\n",
      "349:\tlearn: 0.6794878\ttotal: 4.84s\tremaining: 9s\n",
      "350:\tlearn: 0.6794482\ttotal: 4.86s\tremaining: 8.98s\n",
      "351:\tlearn: 0.6794157\ttotal: 4.87s\tremaining: 8.96s\n",
      "352:\tlearn: 0.6793788\ttotal: 4.88s\tremaining: 8.94s\n",
      "353:\tlearn: 0.6793491\ttotal: 4.89s\tremaining: 8.92s\n",
      "354:\tlearn: 0.6793101\ttotal: 4.9s\tremaining: 8.9s\n",
      "355:\tlearn: 0.6792650\ttotal: 4.91s\tremaining: 8.89s\n",
      "356:\tlearn: 0.6792346\ttotal: 4.92s\tremaining: 8.87s\n",
      "357:\tlearn: 0.6791852\ttotal: 4.94s\tremaining: 8.86s\n",
      "358:\tlearn: 0.6791598\ttotal: 4.95s\tremaining: 8.84s\n",
      "359:\tlearn: 0.6791188\ttotal: 4.96s\tremaining: 8.83s\n",
      "360:\tlearn: 0.6790810\ttotal: 4.98s\tremaining: 8.81s\n",
      "361:\tlearn: 0.6790441\ttotal: 4.99s\tremaining: 8.8s\n",
      "362:\tlearn: 0.6790021\ttotal: 5s\tremaining: 8.78s\n",
      "363:\tlearn: 0.6789756\ttotal: 5.01s\tremaining: 8.76s\n",
      "364:\tlearn: 0.6789367\ttotal: 5.03s\tremaining: 8.74s\n",
      "365:\tlearn: 0.6788892\ttotal: 5.04s\tremaining: 8.73s\n",
      "366:\tlearn: 0.6788572\ttotal: 5.05s\tremaining: 8.71s\n",
      "367:\tlearn: 0.6788264\ttotal: 5.06s\tremaining: 8.7s\n",
      "368:\tlearn: 0.6787994\ttotal: 5.08s\tremaining: 8.68s\n",
      "369:\tlearn: 0.6787559\ttotal: 5.09s\tremaining: 8.66s\n",
      "370:\tlearn: 0.6787136\ttotal: 5.1s\tremaining: 8.65s\n",
      "371:\tlearn: 0.6786820\ttotal: 5.11s\tremaining: 8.63s\n",
      "372:\tlearn: 0.6786416\ttotal: 5.13s\tremaining: 8.62s\n",
      "373:\tlearn: 0.6786084\ttotal: 5.14s\tremaining: 8.61s\n",
      "374:\tlearn: 0.6785792\ttotal: 5.15s\tremaining: 8.59s\n",
      "375:\tlearn: 0.6785273\ttotal: 5.17s\tremaining: 8.57s\n",
      "376:\tlearn: 0.6784977\ttotal: 5.18s\tremaining: 8.56s\n",
      "377:\tlearn: 0.6784438\ttotal: 5.19s\tremaining: 8.54s\n",
      "378:\tlearn: 0.6783926\ttotal: 5.2s\tremaining: 8.53s\n",
      "379:\tlearn: 0.6783567\ttotal: 5.21s\tremaining: 8.51s\n",
      "380:\tlearn: 0.6783215\ttotal: 5.23s\tremaining: 8.49s\n",
      "381:\tlearn: 0.6782745\ttotal: 5.24s\tremaining: 8.48s\n",
      "382:\tlearn: 0.6782302\ttotal: 5.25s\tremaining: 8.46s\n",
      "383:\tlearn: 0.6781869\ttotal: 5.26s\tremaining: 8.44s\n",
      "384:\tlearn: 0.6781427\ttotal: 5.28s\tremaining: 8.43s\n",
      "385:\tlearn: 0.6781082\ttotal: 5.29s\tremaining: 8.41s\n",
      "386:\tlearn: 0.6780805\ttotal: 5.3s\tremaining: 8.4s\n",
      "387:\tlearn: 0.6780487\ttotal: 5.31s\tremaining: 8.38s\n",
      "388:\tlearn: 0.6780055\ttotal: 5.33s\tremaining: 8.37s\n",
      "389:\tlearn: 0.6779799\ttotal: 5.34s\tremaining: 8.35s\n",
      "390:\tlearn: 0.6779629\ttotal: 5.35s\tremaining: 8.34s\n",
      "391:\tlearn: 0.6779268\ttotal: 5.37s\tremaining: 8.32s\n",
      "392:\tlearn: 0.6778921\ttotal: 5.38s\tremaining: 8.3s\n",
      "393:\tlearn: 0.6778459\ttotal: 5.39s\tremaining: 8.29s\n",
      "394:\tlearn: 0.6778144\ttotal: 5.4s\tremaining: 8.27s\n",
      "395:\tlearn: 0.6777769\ttotal: 5.41s\tremaining: 8.26s\n",
      "396:\tlearn: 0.6777432\ttotal: 5.42s\tremaining: 8.24s\n",
      "397:\tlearn: 0.6777164\ttotal: 5.43s\tremaining: 8.22s\n",
      "398:\tlearn: 0.6776886\ttotal: 5.45s\tremaining: 8.2s\n",
      "399:\tlearn: 0.6776617\ttotal: 5.46s\tremaining: 8.19s\n",
      "400:\tlearn: 0.6776207\ttotal: 5.47s\tremaining: 8.17s\n",
      "401:\tlearn: 0.6775770\ttotal: 5.48s\tremaining: 8.15s\n",
      "402:\tlearn: 0.6775288\ttotal: 5.49s\tremaining: 8.14s\n",
      "403:\tlearn: 0.6774994\ttotal: 5.5s\tremaining: 8.12s\n",
      "404:\tlearn: 0.6774529\ttotal: 5.52s\tremaining: 8.11s\n",
      "405:\tlearn: 0.6774093\ttotal: 5.53s\tremaining: 8.09s\n",
      "406:\tlearn: 0.6773727\ttotal: 5.54s\tremaining: 8.08s\n",
      "407:\tlearn: 0.6773333\ttotal: 5.56s\tremaining: 8.06s\n",
      "408:\tlearn: 0.6772873\ttotal: 5.57s\tremaining: 8.04s\n",
      "409:\tlearn: 0.6772540\ttotal: 5.58s\tremaining: 8.03s\n",
      "410:\tlearn: 0.6772213\ttotal: 5.59s\tremaining: 8.02s\n",
      "411:\tlearn: 0.6771820\ttotal: 5.61s\tremaining: 8s\n",
      "412:\tlearn: 0.6771371\ttotal: 5.62s\tremaining: 7.98s\n",
      "413:\tlearn: 0.6770958\ttotal: 5.63s\tremaining: 7.97s\n",
      "414:\tlearn: 0.6770679\ttotal: 5.64s\tremaining: 7.95s\n",
      "415:\tlearn: 0.6770333\ttotal: 5.65s\tremaining: 7.94s\n",
      "416:\tlearn: 0.6770023\ttotal: 5.67s\tremaining: 7.92s\n",
      "417:\tlearn: 0.6769596\ttotal: 5.68s\tremaining: 7.91s\n",
      "418:\tlearn: 0.6769324\ttotal: 5.69s\tremaining: 7.89s\n",
      "419:\tlearn: 0.6768977\ttotal: 5.7s\tremaining: 7.87s\n",
      "420:\tlearn: 0.6768678\ttotal: 5.71s\tremaining: 7.86s\n",
      "421:\tlearn: 0.6768325\ttotal: 5.73s\tremaining: 7.85s\n",
      "422:\tlearn: 0.6767939\ttotal: 5.74s\tremaining: 7.83s\n",
      "423:\tlearn: 0.6767618\ttotal: 5.76s\tremaining: 7.82s\n",
      "424:\tlearn: 0.6767254\ttotal: 5.77s\tremaining: 7.81s\n",
      "425:\tlearn: 0.6767023\ttotal: 5.79s\tremaining: 7.8s\n",
      "426:\tlearn: 0.6766569\ttotal: 5.8s\tremaining: 7.78s\n",
      "427:\tlearn: 0.6766285\ttotal: 5.81s\tremaining: 7.77s\n",
      "428:\tlearn: 0.6765995\ttotal: 5.83s\tremaining: 7.75s\n",
      "429:\tlearn: 0.6765619\ttotal: 5.84s\tremaining: 7.74s\n",
      "430:\tlearn: 0.6765259\ttotal: 5.85s\tremaining: 7.73s\n",
      "431:\tlearn: 0.6764867\ttotal: 5.87s\tremaining: 7.71s\n",
      "432:\tlearn: 0.6764495\ttotal: 5.88s\tremaining: 7.7s\n",
      "433:\tlearn: 0.6764042\ttotal: 5.89s\tremaining: 7.69s\n",
      "434:\tlearn: 0.6763711\ttotal: 5.91s\tremaining: 7.67s\n",
      "435:\tlearn: 0.6763390\ttotal: 5.92s\tremaining: 7.66s\n",
      "436:\tlearn: 0.6763174\ttotal: 5.94s\tremaining: 7.65s\n",
      "437:\tlearn: 0.6762817\ttotal: 5.95s\tremaining: 7.64s\n",
      "438:\tlearn: 0.6762563\ttotal: 5.96s\tremaining: 7.62s\n",
      "439:\tlearn: 0.6762058\ttotal: 5.98s\tremaining: 7.61s\n",
      "440:\tlearn: 0.6761566\ttotal: 5.99s\tremaining: 7.59s\n",
      "441:\tlearn: 0.6761197\ttotal: 6s\tremaining: 7.58s\n",
      "442:\tlearn: 0.6760747\ttotal: 6.02s\tremaining: 7.57s\n",
      "443:\tlearn: 0.6760382\ttotal: 6.03s\tremaining: 7.55s\n",
      "444:\tlearn: 0.6760037\ttotal: 6.05s\tremaining: 7.55s\n",
      "445:\tlearn: 0.6759768\ttotal: 6.07s\tremaining: 7.53s\n",
      "446:\tlearn: 0.6759503\ttotal: 6.08s\tremaining: 7.52s\n",
      "447:\tlearn: 0.6759088\ttotal: 6.09s\tremaining: 7.5s\n",
      "448:\tlearn: 0.6758872\ttotal: 6.1s\tremaining: 7.49s\n",
      "449:\tlearn: 0.6758456\ttotal: 6.11s\tremaining: 7.47s\n",
      "450:\tlearn: 0.6757993\ttotal: 6.13s\tremaining: 7.46s\n",
      "451:\tlearn: 0.6757686\ttotal: 6.14s\tremaining: 7.45s\n",
      "452:\tlearn: 0.6757404\ttotal: 6.15s\tremaining: 7.43s\n",
      "453:\tlearn: 0.6756840\ttotal: 6.17s\tremaining: 7.42s\n",
      "454:\tlearn: 0.6756515\ttotal: 6.18s\tremaining: 7.4s\n",
      "455:\tlearn: 0.6756176\ttotal: 6.19s\tremaining: 7.38s\n",
      "456:\tlearn: 0.6755834\ttotal: 6.2s\tremaining: 7.37s\n",
      "457:\tlearn: 0.6755434\ttotal: 6.21s\tremaining: 7.36s\n",
      "458:\tlearn: 0.6755200\ttotal: 6.23s\tremaining: 7.34s\n",
      "459:\tlearn: 0.6754720\ttotal: 6.24s\tremaining: 7.32s\n",
      "460:\tlearn: 0.6754492\ttotal: 6.25s\tremaining: 7.31s\n",
      "461:\tlearn: 0.6754253\ttotal: 6.26s\tremaining: 7.29s\n",
      "462:\tlearn: 0.6753970\ttotal: 6.27s\tremaining: 7.28s\n",
      "463:\tlearn: 0.6753542\ttotal: 6.29s\tremaining: 7.26s\n",
      "464:\tlearn: 0.6753271\ttotal: 6.3s\tremaining: 7.25s\n",
      "465:\tlearn: 0.6753010\ttotal: 6.31s\tremaining: 7.23s\n",
      "466:\tlearn: 0.6752670\ttotal: 6.32s\tremaining: 7.22s\n",
      "467:\tlearn: 0.6752440\ttotal: 6.34s\tremaining: 7.2s\n",
      "468:\tlearn: 0.6752181\ttotal: 6.35s\tremaining: 7.19s\n",
      "469:\tlearn: 0.6751913\ttotal: 6.36s\tremaining: 7.17s\n",
      "470:\tlearn: 0.6751474\ttotal: 6.37s\tremaining: 7.16s\n",
      "471:\tlearn: 0.6751043\ttotal: 6.38s\tremaining: 7.14s\n",
      "472:\tlearn: 0.6750629\ttotal: 6.4s\tremaining: 7.13s\n",
      "473:\tlearn: 0.6750371\ttotal: 6.41s\tremaining: 7.11s\n",
      "474:\tlearn: 0.6750023\ttotal: 6.42s\tremaining: 7.1s\n",
      "475:\tlearn: 0.6749759\ttotal: 6.43s\tremaining: 7.08s\n",
      "476:\tlearn: 0.6749424\ttotal: 6.45s\tremaining: 7.07s\n",
      "477:\tlearn: 0.6749163\ttotal: 6.46s\tremaining: 7.05s\n",
      "478:\tlearn: 0.6748794\ttotal: 6.47s\tremaining: 7.04s\n",
      "479:\tlearn: 0.6748420\ttotal: 6.48s\tremaining: 7.02s\n",
      "480:\tlearn: 0.6748143\ttotal: 6.49s\tremaining: 7s\n",
      "481:\tlearn: 0.6747633\ttotal: 6.5s\tremaining: 6.99s\n",
      "482:\tlearn: 0.6747283\ttotal: 6.52s\tremaining: 6.97s\n",
      "483:\tlearn: 0.6746838\ttotal: 6.53s\tremaining: 6.96s\n",
      "484:\tlearn: 0.6746438\ttotal: 6.54s\tremaining: 6.95s\n",
      "485:\tlearn: 0.6746032\ttotal: 6.55s\tremaining: 6.93s\n",
      "486:\tlearn: 0.6745730\ttotal: 6.57s\tremaining: 6.92s\n",
      "487:\tlearn: 0.6745372\ttotal: 6.58s\tremaining: 6.9s\n",
      "488:\tlearn: 0.6745038\ttotal: 6.59s\tremaining: 6.89s\n",
      "489:\tlearn: 0.6744832\ttotal: 6.6s\tremaining: 6.87s\n",
      "490:\tlearn: 0.6744572\ttotal: 6.61s\tremaining: 6.86s\n",
      "491:\tlearn: 0.6744199\ttotal: 6.63s\tremaining: 6.84s\n",
      "492:\tlearn: 0.6743793\ttotal: 6.64s\tremaining: 6.83s\n",
      "493:\tlearn: 0.6743543\ttotal: 6.65s\tremaining: 6.81s\n",
      "494:\tlearn: 0.6743260\ttotal: 6.66s\tremaining: 6.79s\n",
      "495:\tlearn: 0.6743018\ttotal: 6.67s\tremaining: 6.78s\n",
      "496:\tlearn: 0.6742719\ttotal: 6.68s\tremaining: 6.77s\n",
      "497:\tlearn: 0.6742354\ttotal: 6.7s\tremaining: 6.75s\n",
      "498:\tlearn: 0.6741876\ttotal: 6.71s\tremaining: 6.74s\n"
     ]
    },
    {
     "name": "stdout",
     "output_type": "stream",
     "text": [
      "499:\tlearn: 0.6741457\ttotal: 6.72s\tremaining: 6.72s\n",
      "500:\tlearn: 0.6741149\ttotal: 6.74s\tremaining: 6.71s\n",
      "501:\tlearn: 0.6740856\ttotal: 6.75s\tremaining: 6.7s\n",
      "502:\tlearn: 0.6740508\ttotal: 6.76s\tremaining: 6.68s\n",
      "503:\tlearn: 0.6740154\ttotal: 6.77s\tremaining: 6.67s\n",
      "504:\tlearn: 0.6739745\ttotal: 6.79s\tremaining: 6.65s\n",
      "505:\tlearn: 0.6739315\ttotal: 6.8s\tremaining: 6.64s\n",
      "506:\tlearn: 0.6738990\ttotal: 6.81s\tremaining: 6.62s\n",
      "507:\tlearn: 0.6738624\ttotal: 6.82s\tremaining: 6.61s\n",
      "508:\tlearn: 0.6738115\ttotal: 6.83s\tremaining: 6.59s\n",
      "509:\tlearn: 0.6737892\ttotal: 6.85s\tremaining: 6.58s\n",
      "510:\tlearn: 0.6737580\ttotal: 6.86s\tremaining: 6.56s\n",
      "511:\tlearn: 0.6737202\ttotal: 6.87s\tremaining: 6.55s\n",
      "512:\tlearn: 0.6736872\ttotal: 6.88s\tremaining: 6.53s\n",
      "513:\tlearn: 0.6736581\ttotal: 6.89s\tremaining: 6.52s\n",
      "514:\tlearn: 0.6736360\ttotal: 6.91s\tremaining: 6.5s\n",
      "515:\tlearn: 0.6735994\ttotal: 6.92s\tremaining: 6.49s\n",
      "516:\tlearn: 0.6735689\ttotal: 6.93s\tremaining: 6.47s\n",
      "517:\tlearn: 0.6735361\ttotal: 6.94s\tremaining: 6.46s\n",
      "518:\tlearn: 0.6735095\ttotal: 6.95s\tremaining: 6.45s\n",
      "519:\tlearn: 0.6734818\ttotal: 6.97s\tremaining: 6.43s\n",
      "520:\tlearn: 0.6734469\ttotal: 6.98s\tremaining: 6.42s\n",
      "521:\tlearn: 0.6734186\ttotal: 6.99s\tremaining: 6.4s\n",
      "522:\tlearn: 0.6733861\ttotal: 7s\tremaining: 6.39s\n",
      "523:\tlearn: 0.6733450\ttotal: 7.01s\tremaining: 6.37s\n",
      "524:\tlearn: 0.6733034\ttotal: 7.03s\tremaining: 6.36s\n",
      "525:\tlearn: 0.6732617\ttotal: 7.04s\tremaining: 6.34s\n",
      "526:\tlearn: 0.6732362\ttotal: 7.05s\tremaining: 6.33s\n",
      "527:\tlearn: 0.6732014\ttotal: 7.06s\tremaining: 6.31s\n",
      "528:\tlearn: 0.6731709\ttotal: 7.08s\tremaining: 6.3s\n",
      "529:\tlearn: 0.6731440\ttotal: 7.09s\tremaining: 6.29s\n",
      "530:\tlearn: 0.6730977\ttotal: 7.1s\tremaining: 6.27s\n",
      "531:\tlearn: 0.6730565\ttotal: 7.12s\tremaining: 6.26s\n",
      "532:\tlearn: 0.6730260\ttotal: 7.13s\tremaining: 6.25s\n",
      "533:\tlearn: 0.6729802\ttotal: 7.15s\tremaining: 6.24s\n",
      "534:\tlearn: 0.6729563\ttotal: 7.16s\tremaining: 6.23s\n",
      "535:\tlearn: 0.6729268\ttotal: 7.18s\tremaining: 6.21s\n",
      "536:\tlearn: 0.6729027\ttotal: 7.19s\tremaining: 6.2s\n",
      "537:\tlearn: 0.6728751\ttotal: 7.21s\tremaining: 6.19s\n",
      "538:\tlearn: 0.6728604\ttotal: 7.22s\tremaining: 6.17s\n",
      "539:\tlearn: 0.6728422\ttotal: 7.23s\tremaining: 6.16s\n",
      "540:\tlearn: 0.6728042\ttotal: 7.24s\tremaining: 6.15s\n",
      "541:\tlearn: 0.6727654\ttotal: 7.26s\tremaining: 6.13s\n",
      "542:\tlearn: 0.6727361\ttotal: 7.27s\tremaining: 6.12s\n",
      "543:\tlearn: 0.6726987\ttotal: 7.28s\tremaining: 6.11s\n",
      "544:\tlearn: 0.6726587\ttotal: 7.29s\tremaining: 6.09s\n",
      "545:\tlearn: 0.6726168\ttotal: 7.31s\tremaining: 6.08s\n",
      "546:\tlearn: 0.6725817\ttotal: 7.33s\tremaining: 6.07s\n",
      "547:\tlearn: 0.6725424\ttotal: 7.34s\tremaining: 6.05s\n",
      "548:\tlearn: 0.6725141\ttotal: 7.35s\tremaining: 6.04s\n",
      "549:\tlearn: 0.6724709\ttotal: 7.37s\tremaining: 6.03s\n",
      "550:\tlearn: 0.6724384\ttotal: 7.38s\tremaining: 6.01s\n",
      "551:\tlearn: 0.6724062\ttotal: 7.39s\tremaining: 6s\n",
      "552:\tlearn: 0.6723787\ttotal: 7.41s\tremaining: 5.99s\n",
      "553:\tlearn: 0.6723378\ttotal: 7.42s\tremaining: 5.97s\n",
      "554:\tlearn: 0.6723066\ttotal: 7.43s\tremaining: 5.96s\n",
      "555:\tlearn: 0.6722680\ttotal: 7.44s\tremaining: 5.94s\n",
      "556:\tlearn: 0.6722339\ttotal: 7.46s\tremaining: 5.93s\n",
      "557:\tlearn: 0.6721936\ttotal: 7.47s\tremaining: 5.92s\n",
      "558:\tlearn: 0.6721707\ttotal: 7.48s\tremaining: 5.9s\n",
      "559:\tlearn: 0.6721396\ttotal: 7.49s\tremaining: 5.89s\n",
      "560:\tlearn: 0.6721142\ttotal: 7.5s\tremaining: 5.87s\n",
      "561:\tlearn: 0.6720956\ttotal: 7.52s\tremaining: 5.86s\n",
      "562:\tlearn: 0.6720590\ttotal: 7.53s\tremaining: 5.85s\n",
      "563:\tlearn: 0.6720198\ttotal: 7.54s\tremaining: 5.83s\n",
      "564:\tlearn: 0.6719945\ttotal: 7.56s\tremaining: 5.82s\n",
      "565:\tlearn: 0.6719573\ttotal: 7.57s\tremaining: 5.8s\n",
      "566:\tlearn: 0.6719229\ttotal: 7.58s\tremaining: 5.79s\n",
      "567:\tlearn: 0.6718840\ttotal: 7.59s\tremaining: 5.77s\n",
      "568:\tlearn: 0.6718408\ttotal: 7.61s\tremaining: 5.76s\n",
      "569:\tlearn: 0.6718033\ttotal: 7.62s\tremaining: 5.75s\n",
      "570:\tlearn: 0.6717760\ttotal: 7.63s\tremaining: 5.73s\n",
      "571:\tlearn: 0.6717409\ttotal: 7.64s\tremaining: 5.72s\n",
      "572:\tlearn: 0.6717103\ttotal: 7.65s\tremaining: 5.7s\n",
      "573:\tlearn: 0.6716787\ttotal: 7.66s\tremaining: 5.69s\n",
      "574:\tlearn: 0.6716281\ttotal: 7.68s\tremaining: 5.67s\n",
      "575:\tlearn: 0.6715878\ttotal: 7.69s\tremaining: 5.66s\n",
      "576:\tlearn: 0.6715530\ttotal: 7.7s\tremaining: 5.65s\n",
      "577:\tlearn: 0.6715281\ttotal: 7.72s\tremaining: 5.63s\n",
      "578:\tlearn: 0.6714945\ttotal: 7.73s\tremaining: 5.62s\n",
      "579:\tlearn: 0.6714646\ttotal: 7.74s\tremaining: 5.61s\n",
      "580:\tlearn: 0.6714286\ttotal: 7.76s\tremaining: 5.59s\n",
      "581:\tlearn: 0.6714009\ttotal: 7.77s\tremaining: 5.58s\n",
      "582:\tlearn: 0.6713741\ttotal: 7.78s\tremaining: 5.57s\n",
      "583:\tlearn: 0.6713508\ttotal: 7.8s\tremaining: 5.55s\n",
      "584:\tlearn: 0.6713177\ttotal: 7.81s\tremaining: 5.54s\n",
      "585:\tlearn: 0.6712845\ttotal: 7.82s\tremaining: 5.53s\n",
      "586:\tlearn: 0.6712641\ttotal: 7.83s\tremaining: 5.51s\n",
      "587:\tlearn: 0.6712278\ttotal: 7.85s\tremaining: 5.5s\n",
      "588:\tlearn: 0.6711999\ttotal: 7.86s\tremaining: 5.48s\n",
      "589:\tlearn: 0.6711709\ttotal: 7.87s\tremaining: 5.47s\n",
      "590:\tlearn: 0.6711329\ttotal: 7.88s\tremaining: 5.46s\n",
      "591:\tlearn: 0.6710969\ttotal: 7.9s\tremaining: 5.44s\n",
      "592:\tlearn: 0.6710649\ttotal: 7.91s\tremaining: 5.43s\n",
      "593:\tlearn: 0.6710359\ttotal: 7.92s\tremaining: 5.42s\n",
      "594:\tlearn: 0.6710027\ttotal: 7.94s\tremaining: 5.4s\n",
      "595:\tlearn: 0.6709635\ttotal: 7.95s\tremaining: 5.39s\n",
      "596:\tlearn: 0.6709273\ttotal: 7.96s\tremaining: 5.38s\n",
      "597:\tlearn: 0.6708860\ttotal: 7.98s\tremaining: 5.36s\n",
      "598:\tlearn: 0.6708674\ttotal: 7.99s\tremaining: 5.35s\n",
      "599:\tlearn: 0.6708316\ttotal: 8s\tremaining: 5.34s\n",
      "600:\tlearn: 0.6707923\ttotal: 8.02s\tremaining: 5.32s\n",
      "601:\tlearn: 0.6707654\ttotal: 8.03s\tremaining: 5.31s\n",
      "602:\tlearn: 0.6707344\ttotal: 8.04s\tremaining: 5.3s\n",
      "603:\tlearn: 0.6707026\ttotal: 8.06s\tremaining: 5.28s\n",
      "604:\tlearn: 0.6706776\ttotal: 8.07s\tremaining: 5.27s\n",
      "605:\tlearn: 0.6706505\ttotal: 8.08s\tremaining: 5.26s\n",
      "606:\tlearn: 0.6706183\ttotal: 8.1s\tremaining: 5.24s\n",
      "607:\tlearn: 0.6705804\ttotal: 8.11s\tremaining: 5.23s\n",
      "608:\tlearn: 0.6705459\ttotal: 8.13s\tremaining: 5.22s\n",
      "609:\tlearn: 0.6705155\ttotal: 8.14s\tremaining: 5.2s\n",
      "610:\tlearn: 0.6704930\ttotal: 8.15s\tremaining: 5.19s\n",
      "611:\tlearn: 0.6704559\ttotal: 8.16s\tremaining: 5.18s\n",
      "612:\tlearn: 0.6704264\ttotal: 8.18s\tremaining: 5.16s\n",
      "613:\tlearn: 0.6703951\ttotal: 8.19s\tremaining: 5.15s\n",
      "614:\tlearn: 0.6703646\ttotal: 8.2s\tremaining: 5.13s\n",
      "615:\tlearn: 0.6703204\ttotal: 8.21s\tremaining: 5.12s\n",
      "616:\tlearn: 0.6703021\ttotal: 8.23s\tremaining: 5.11s\n",
      "617:\tlearn: 0.6702632\ttotal: 8.24s\tremaining: 5.09s\n",
      "618:\tlearn: 0.6702411\ttotal: 8.25s\tremaining: 5.08s\n",
      "619:\tlearn: 0.6702181\ttotal: 8.27s\tremaining: 5.07s\n",
      "620:\tlearn: 0.6701790\ttotal: 8.28s\tremaining: 5.05s\n",
      "621:\tlearn: 0.6701496\ttotal: 8.29s\tremaining: 5.04s\n",
      "622:\tlearn: 0.6701133\ttotal: 8.3s\tremaining: 5.03s\n",
      "623:\tlearn: 0.6700777\ttotal: 8.33s\tremaining: 5.02s\n",
      "624:\tlearn: 0.6700299\ttotal: 8.35s\tremaining: 5.01s\n",
      "625:\tlearn: 0.6699932\ttotal: 8.36s\tremaining: 4.99s\n",
      "626:\tlearn: 0.6699640\ttotal: 8.37s\tremaining: 4.98s\n",
      "627:\tlearn: 0.6699465\ttotal: 8.38s\tremaining: 4.97s\n",
      "628:\tlearn: 0.6699135\ttotal: 8.4s\tremaining: 4.95s\n",
      "629:\tlearn: 0.6698725\ttotal: 8.41s\tremaining: 4.94s\n",
      "630:\tlearn: 0.6698444\ttotal: 8.43s\tremaining: 4.93s\n",
      "631:\tlearn: 0.6698238\ttotal: 8.44s\tremaining: 4.91s\n",
      "632:\tlearn: 0.6697812\ttotal: 8.45s\tremaining: 4.9s\n",
      "633:\tlearn: 0.6697522\ttotal: 8.46s\tremaining: 4.89s\n",
      "634:\tlearn: 0.6697329\ttotal: 8.48s\tremaining: 4.87s\n",
      "635:\tlearn: 0.6696992\ttotal: 8.49s\tremaining: 4.86s\n",
      "636:\tlearn: 0.6696624\ttotal: 8.51s\tremaining: 4.85s\n",
      "637:\tlearn: 0.6696180\ttotal: 8.52s\tremaining: 4.83s\n",
      "638:\tlearn: 0.6695794\ttotal: 8.54s\tremaining: 4.82s\n",
      "639:\tlearn: 0.6695604\ttotal: 8.55s\tremaining: 4.81s\n",
      "640:\tlearn: 0.6695160\ttotal: 8.56s\tremaining: 4.79s\n",
      "641:\tlearn: 0.6694867\ttotal: 8.58s\tremaining: 4.78s\n",
      "642:\tlearn: 0.6694398\ttotal: 8.59s\tremaining: 4.77s\n",
      "643:\tlearn: 0.6694156\ttotal: 8.6s\tremaining: 4.75s\n",
      "644:\tlearn: 0.6693899\ttotal: 8.62s\tremaining: 4.74s\n",
      "645:\tlearn: 0.6693536\ttotal: 8.63s\tremaining: 4.73s\n",
      "646:\tlearn: 0.6693363\ttotal: 8.64s\tremaining: 4.71s\n",
      "647:\tlearn: 0.6693087\ttotal: 8.66s\tremaining: 4.7s\n",
      "648:\tlearn: 0.6692747\ttotal: 8.67s\tremaining: 4.69s\n",
      "649:\tlearn: 0.6692425\ttotal: 8.68s\tremaining: 4.67s\n",
      "650:\tlearn: 0.6692087\ttotal: 8.7s\tremaining: 4.66s\n",
      "651:\tlearn: 0.6691774\ttotal: 8.71s\tremaining: 4.65s\n",
      "652:\tlearn: 0.6691566\ttotal: 8.73s\tremaining: 4.64s\n",
      "653:\tlearn: 0.6691281\ttotal: 8.74s\tremaining: 4.62s\n",
      "654:\tlearn: 0.6690885\ttotal: 8.75s\tremaining: 4.61s\n",
      "655:\tlearn: 0.6690519\ttotal: 8.77s\tremaining: 4.6s\n",
      "656:\tlearn: 0.6690273\ttotal: 8.78s\tremaining: 4.58s\n",
      "657:\tlearn: 0.6689971\ttotal: 8.79s\tremaining: 4.57s\n",
      "658:\tlearn: 0.6689751\ttotal: 8.8s\tremaining: 4.55s\n",
      "659:\tlearn: 0.6689321\ttotal: 8.81s\tremaining: 4.54s\n",
      "660:\tlearn: 0.6688884\ttotal: 8.82s\tremaining: 4.53s\n",
      "661:\tlearn: 0.6688571\ttotal: 8.84s\tremaining: 4.51s\n",
      "662:\tlearn: 0.6688351\ttotal: 8.85s\tremaining: 4.5s\n",
      "663:\tlearn: 0.6688070\ttotal: 8.86s\tremaining: 4.48s\n",
      "664:\tlearn: 0.6687743\ttotal: 8.87s\tremaining: 4.47s\n",
      "665:\tlearn: 0.6687407\ttotal: 8.88s\tremaining: 4.45s\n"
     ]
    },
    {
     "name": "stdout",
     "output_type": "stream",
     "text": [
      "666:\tlearn: 0.6686969\ttotal: 8.9s\tremaining: 4.44s\n",
      "667:\tlearn: 0.6686671\ttotal: 8.91s\tremaining: 4.43s\n",
      "668:\tlearn: 0.6686373\ttotal: 8.92s\tremaining: 4.41s\n",
      "669:\tlearn: 0.6686001\ttotal: 8.93s\tremaining: 4.4s\n",
      "670:\tlearn: 0.6685746\ttotal: 8.95s\tremaining: 4.39s\n",
      "671:\tlearn: 0.6685535\ttotal: 8.96s\tremaining: 4.37s\n",
      "672:\tlearn: 0.6685250\ttotal: 8.97s\tremaining: 4.36s\n",
      "673:\tlearn: 0.6685038\ttotal: 8.98s\tremaining: 4.34s\n",
      "674:\tlearn: 0.6684744\ttotal: 8.99s\tremaining: 4.33s\n",
      "675:\tlearn: 0.6684348\ttotal: 9.01s\tremaining: 4.32s\n",
      "676:\tlearn: 0.6684057\ttotal: 9.02s\tremaining: 4.3s\n",
      "677:\tlearn: 0.6683572\ttotal: 9.03s\tremaining: 4.29s\n",
      "678:\tlearn: 0.6683211\ttotal: 9.04s\tremaining: 4.28s\n",
      "679:\tlearn: 0.6682787\ttotal: 9.06s\tremaining: 4.26s\n",
      "680:\tlearn: 0.6682300\ttotal: 9.07s\tremaining: 4.25s\n",
      "681:\tlearn: 0.6681890\ttotal: 9.08s\tremaining: 4.23s\n",
      "682:\tlearn: 0.6681559\ttotal: 9.09s\tremaining: 4.22s\n",
      "683:\tlearn: 0.6681291\ttotal: 9.11s\tremaining: 4.21s\n",
      "684:\tlearn: 0.6680988\ttotal: 9.12s\tremaining: 4.19s\n",
      "685:\tlearn: 0.6680716\ttotal: 9.13s\tremaining: 4.18s\n",
      "686:\tlearn: 0.6680286\ttotal: 9.14s\tremaining: 4.17s\n",
      "687:\tlearn: 0.6679946\ttotal: 9.15s\tremaining: 4.15s\n",
      "688:\tlearn: 0.6679724\ttotal: 9.17s\tremaining: 4.14s\n",
      "689:\tlearn: 0.6679378\ttotal: 9.18s\tremaining: 4.12s\n",
      "690:\tlearn: 0.6679062\ttotal: 9.19s\tremaining: 4.11s\n",
      "691:\tlearn: 0.6678820\ttotal: 9.2s\tremaining: 4.1s\n",
      "692:\tlearn: 0.6678419\ttotal: 9.22s\tremaining: 4.08s\n",
      "693:\tlearn: 0.6678125\ttotal: 9.23s\tremaining: 4.07s\n",
      "694:\tlearn: 0.6677868\ttotal: 9.24s\tremaining: 4.05s\n",
      "695:\tlearn: 0.6677560\ttotal: 9.25s\tremaining: 4.04s\n",
      "696:\tlearn: 0.6677093\ttotal: 9.26s\tremaining: 4.03s\n",
      "697:\tlearn: 0.6676891\ttotal: 9.28s\tremaining: 4.01s\n",
      "698:\tlearn: 0.6676481\ttotal: 9.29s\tremaining: 4s\n",
      "699:\tlearn: 0.6676165\ttotal: 9.3s\tremaining: 3.99s\n",
      "700:\tlearn: 0.6675838\ttotal: 9.31s\tremaining: 3.97s\n",
      "701:\tlearn: 0.6675524\ttotal: 9.32s\tremaining: 3.96s\n",
      "702:\tlearn: 0.6675276\ttotal: 9.34s\tremaining: 3.94s\n",
      "703:\tlearn: 0.6674849\ttotal: 9.35s\tremaining: 3.93s\n",
      "704:\tlearn: 0.6674336\ttotal: 9.36s\tremaining: 3.92s\n",
      "705:\tlearn: 0.6674114\ttotal: 9.38s\tremaining: 3.9s\n",
      "706:\tlearn: 0.6673721\ttotal: 9.39s\tremaining: 3.89s\n",
      "707:\tlearn: 0.6673502\ttotal: 9.4s\tremaining: 3.88s\n",
      "708:\tlearn: 0.6673170\ttotal: 9.41s\tremaining: 3.86s\n",
      "709:\tlearn: 0.6672779\ttotal: 9.42s\tremaining: 3.85s\n",
      "710:\tlearn: 0.6672521\ttotal: 9.44s\tremaining: 3.83s\n",
      "711:\tlearn: 0.6672133\ttotal: 9.45s\tremaining: 3.82s\n",
      "712:\tlearn: 0.6671860\ttotal: 9.46s\tremaining: 3.81s\n",
      "713:\tlearn: 0.6671468\ttotal: 9.47s\tremaining: 3.79s\n",
      "714:\tlearn: 0.6671280\ttotal: 9.48s\tremaining: 3.78s\n",
      "715:\tlearn: 0.6670988\ttotal: 9.49s\tremaining: 3.77s\n",
      "716:\tlearn: 0.6670638\ttotal: 9.51s\tremaining: 3.75s\n",
      "717:\tlearn: 0.6670404\ttotal: 9.52s\tremaining: 3.74s\n",
      "718:\tlearn: 0.6670092\ttotal: 9.53s\tremaining: 3.73s\n",
      "719:\tlearn: 0.6669826\ttotal: 9.54s\tremaining: 3.71s\n",
      "720:\tlearn: 0.6669453\ttotal: 9.55s\tremaining: 3.7s\n",
      "721:\tlearn: 0.6669223\ttotal: 9.57s\tremaining: 3.68s\n",
      "722:\tlearn: 0.6668930\ttotal: 9.58s\tremaining: 3.67s\n",
      "723:\tlearn: 0.6668558\ttotal: 9.59s\tremaining: 3.66s\n",
      "724:\tlearn: 0.6668132\ttotal: 9.6s\tremaining: 3.64s\n",
      "725:\tlearn: 0.6667715\ttotal: 9.61s\tremaining: 3.63s\n",
      "726:\tlearn: 0.6667328\ttotal: 9.63s\tremaining: 3.61s\n",
      "727:\tlearn: 0.6667094\ttotal: 9.64s\tremaining: 3.6s\n",
      "728:\tlearn: 0.6666806\ttotal: 9.65s\tremaining: 3.59s\n",
      "729:\tlearn: 0.6666553\ttotal: 9.66s\tremaining: 3.57s\n",
      "730:\tlearn: 0.6666360\ttotal: 9.67s\tremaining: 3.56s\n",
      "731:\tlearn: 0.6666059\ttotal: 9.68s\tremaining: 3.54s\n",
      "732:\tlearn: 0.6665764\ttotal: 9.7s\tremaining: 3.53s\n",
      "733:\tlearn: 0.6665476\ttotal: 9.71s\tremaining: 3.52s\n",
      "734:\tlearn: 0.6665215\ttotal: 9.72s\tremaining: 3.5s\n",
      "735:\tlearn: 0.6665011\ttotal: 9.73s\tremaining: 3.49s\n",
      "736:\tlearn: 0.6664747\ttotal: 9.75s\tremaining: 3.48s\n",
      "737:\tlearn: 0.6664444\ttotal: 9.76s\tremaining: 3.46s\n",
      "738:\tlearn: 0.6664265\ttotal: 9.77s\tremaining: 3.45s\n",
      "739:\tlearn: 0.6663947\ttotal: 9.79s\tremaining: 3.44s\n",
      "740:\tlearn: 0.6663802\ttotal: 9.8s\tremaining: 3.42s\n",
      "741:\tlearn: 0.6663440\ttotal: 9.81s\tremaining: 3.41s\n",
      "742:\tlearn: 0.6663013\ttotal: 9.83s\tremaining: 3.4s\n",
      "743:\tlearn: 0.6662621\ttotal: 9.84s\tremaining: 3.39s\n",
      "744:\tlearn: 0.6662465\ttotal: 9.86s\tremaining: 3.37s\n",
      "745:\tlearn: 0.6662173\ttotal: 9.87s\tremaining: 3.36s\n",
      "746:\tlearn: 0.6661890\ttotal: 9.88s\tremaining: 3.35s\n",
      "747:\tlearn: 0.6661718\ttotal: 9.9s\tremaining: 3.33s\n",
      "748:\tlearn: 0.6661465\ttotal: 9.91s\tremaining: 3.32s\n",
      "749:\tlearn: 0.6661303\ttotal: 9.93s\tremaining: 3.31s\n",
      "750:\tlearn: 0.6661007\ttotal: 9.94s\tremaining: 3.29s\n",
      "751:\tlearn: 0.6660691\ttotal: 9.96s\tremaining: 3.28s\n",
      "752:\tlearn: 0.6660475\ttotal: 9.97s\tremaining: 3.27s\n",
      "753:\tlearn: 0.6660062\ttotal: 9.98s\tremaining: 3.26s\n",
      "754:\tlearn: 0.6659794\ttotal: 10s\tremaining: 3.24s\n",
      "755:\tlearn: 0.6659483\ttotal: 10s\tremaining: 3.23s\n",
      "756:\tlearn: 0.6659244\ttotal: 10s\tremaining: 3.22s\n",
      "757:\tlearn: 0.6658984\ttotal: 10s\tremaining: 3.2s\n",
      "758:\tlearn: 0.6658709\ttotal: 10.1s\tremaining: 3.19s\n",
      "759:\tlearn: 0.6658362\ttotal: 10.1s\tremaining: 3.18s\n",
      "760:\tlearn: 0.6658046\ttotal: 10.1s\tremaining: 3.17s\n",
      "761:\tlearn: 0.6657754\ttotal: 10.1s\tremaining: 3.15s\n",
      "762:\tlearn: 0.6657492\ttotal: 10.1s\tremaining: 3.14s\n",
      "763:\tlearn: 0.6657159\ttotal: 10.1s\tremaining: 3.13s\n",
      "764:\tlearn: 0.6656822\ttotal: 10.1s\tremaining: 3.11s\n",
      "765:\tlearn: 0.6656543\ttotal: 10.1s\tremaining: 3.1s\n",
      "766:\tlearn: 0.6656237\ttotal: 10.2s\tremaining: 3.09s\n",
      "767:\tlearn: 0.6655857\ttotal: 10.2s\tremaining: 3.07s\n",
      "768:\tlearn: 0.6655624\ttotal: 10.2s\tremaining: 3.06s\n",
      "769:\tlearn: 0.6655290\ttotal: 10.2s\tremaining: 3.05s\n",
      "770:\tlearn: 0.6654880\ttotal: 10.2s\tremaining: 3.03s\n",
      "771:\tlearn: 0.6654506\ttotal: 10.2s\tremaining: 3.02s\n",
      "772:\tlearn: 0.6654286\ttotal: 10.2s\tremaining: 3s\n",
      "773:\tlearn: 0.6654042\ttotal: 10.2s\tremaining: 2.99s\n",
      "774:\tlearn: 0.6653586\ttotal: 10.3s\tremaining: 2.98s\n",
      "775:\tlearn: 0.6653372\ttotal: 10.3s\tremaining: 2.96s\n",
      "776:\tlearn: 0.6653093\ttotal: 10.3s\tremaining: 2.95s\n",
      "777:\tlearn: 0.6652732\ttotal: 10.3s\tremaining: 2.94s\n",
      "778:\tlearn: 0.6652472\ttotal: 10.3s\tremaining: 2.92s\n",
      "779:\tlearn: 0.6652170\ttotal: 10.3s\tremaining: 2.91s\n",
      "780:\tlearn: 0.6651851\ttotal: 10.3s\tremaining: 2.9s\n",
      "781:\tlearn: 0.6651441\ttotal: 10.3s\tremaining: 2.88s\n",
      "782:\tlearn: 0.6651141\ttotal: 10.4s\tremaining: 2.87s\n",
      "783:\tlearn: 0.6650934\ttotal: 10.4s\tremaining: 2.86s\n",
      "784:\tlearn: 0.6650584\ttotal: 10.4s\tremaining: 2.84s\n",
      "785:\tlearn: 0.6650396\ttotal: 10.4s\tremaining: 2.83s\n",
      "786:\tlearn: 0.6650042\ttotal: 10.4s\tremaining: 2.82s\n",
      "787:\tlearn: 0.6649696\ttotal: 10.4s\tremaining: 2.8s\n",
      "788:\tlearn: 0.6649456\ttotal: 10.4s\tremaining: 2.79s\n",
      "789:\tlearn: 0.6649141\ttotal: 10.4s\tremaining: 2.78s\n",
      "790:\tlearn: 0.6648931\ttotal: 10.5s\tremaining: 2.76s\n",
      "791:\tlearn: 0.6648556\ttotal: 10.5s\tremaining: 2.75s\n",
      "792:\tlearn: 0.6648106\ttotal: 10.5s\tremaining: 2.74s\n",
      "793:\tlearn: 0.6647882\ttotal: 10.5s\tremaining: 2.72s\n",
      "794:\tlearn: 0.6647651\ttotal: 10.5s\tremaining: 2.71s\n",
      "795:\tlearn: 0.6647258\ttotal: 10.5s\tremaining: 2.7s\n",
      "796:\tlearn: 0.6646951\ttotal: 10.5s\tremaining: 2.68s\n",
      "797:\tlearn: 0.6646617\ttotal: 10.5s\tremaining: 2.67s\n",
      "798:\tlearn: 0.6646296\ttotal: 10.6s\tremaining: 2.66s\n",
      "799:\tlearn: 0.6646061\ttotal: 10.6s\tremaining: 2.64s\n",
      "800:\tlearn: 0.6645739\ttotal: 10.6s\tremaining: 2.63s\n",
      "801:\tlearn: 0.6645487\ttotal: 10.6s\tremaining: 2.62s\n",
      "802:\tlearn: 0.6645127\ttotal: 10.6s\tremaining: 2.6s\n",
      "803:\tlearn: 0.6644792\ttotal: 10.6s\tremaining: 2.59s\n",
      "804:\tlearn: 0.6644547\ttotal: 10.6s\tremaining: 2.58s\n",
      "805:\tlearn: 0.6644332\ttotal: 10.6s\tremaining: 2.56s\n",
      "806:\tlearn: 0.6644100\ttotal: 10.7s\tremaining: 2.55s\n",
      "807:\tlearn: 0.6643763\ttotal: 10.7s\tremaining: 2.54s\n",
      "808:\tlearn: 0.6643493\ttotal: 10.7s\tremaining: 2.52s\n",
      "809:\tlearn: 0.6643287\ttotal: 10.7s\tremaining: 2.51s\n",
      "810:\tlearn: 0.6642950\ttotal: 10.7s\tremaining: 2.5s\n",
      "811:\tlearn: 0.6642637\ttotal: 10.7s\tremaining: 2.48s\n",
      "812:\tlearn: 0.6642251\ttotal: 10.7s\tremaining: 2.47s\n",
      "813:\tlearn: 0.6641965\ttotal: 10.7s\tremaining: 2.46s\n",
      "814:\tlearn: 0.6641655\ttotal: 10.8s\tremaining: 2.44s\n",
      "815:\tlearn: 0.6641444\ttotal: 10.8s\tremaining: 2.43s\n",
      "816:\tlearn: 0.6641220\ttotal: 10.8s\tremaining: 2.42s\n",
      "817:\tlearn: 0.6640804\ttotal: 10.8s\tremaining: 2.4s\n",
      "818:\tlearn: 0.6640503\ttotal: 10.8s\tremaining: 2.39s\n",
      "819:\tlearn: 0.6640074\ttotal: 10.8s\tremaining: 2.38s\n",
      "820:\tlearn: 0.6639820\ttotal: 10.8s\tremaining: 2.36s\n",
      "821:\tlearn: 0.6639508\ttotal: 10.8s\tremaining: 2.35s\n",
      "822:\tlearn: 0.6639145\ttotal: 10.9s\tremaining: 2.33s\n",
      "823:\tlearn: 0.6638892\ttotal: 10.9s\tremaining: 2.32s\n",
      "824:\tlearn: 0.6638719\ttotal: 10.9s\tremaining: 2.31s\n",
      "825:\tlearn: 0.6638404\ttotal: 10.9s\tremaining: 2.29s\n",
      "826:\tlearn: 0.6638122\ttotal: 10.9s\tremaining: 2.28s\n",
      "827:\tlearn: 0.6637804\ttotal: 10.9s\tremaining: 2.27s\n",
      "828:\tlearn: 0.6637588\ttotal: 10.9s\tremaining: 2.25s\n",
      "829:\tlearn: 0.6637227\ttotal: 10.9s\tremaining: 2.24s\n",
      "830:\tlearn: 0.6637061\ttotal: 11s\tremaining: 2.23s\n",
      "831:\tlearn: 0.6636740\ttotal: 11s\tremaining: 2.21s\n",
      "832:\tlearn: 0.6636414\ttotal: 11s\tremaining: 2.2s\n",
      "833:\tlearn: 0.6636103\ttotal: 11s\tremaining: 2.19s\n",
      "834:\tlearn: 0.6635859\ttotal: 11s\tremaining: 2.17s\n",
      "835:\tlearn: 0.6635522\ttotal: 11s\tremaining: 2.16s\n",
      "836:\tlearn: 0.6635098\ttotal: 11s\tremaining: 2.15s\n",
      "837:\tlearn: 0.6634814\ttotal: 11s\tremaining: 2.13s\n",
      "838:\tlearn: 0.6634650\ttotal: 11.1s\tremaining: 2.12s\n",
      "839:\tlearn: 0.6634330\ttotal: 11.1s\tremaining: 2.11s\n"
     ]
    },
    {
     "name": "stdout",
     "output_type": "stream",
     "text": [
      "840:\tlearn: 0.6633934\ttotal: 11.1s\tremaining: 2.09s\n",
      "841:\tlearn: 0.6633652\ttotal: 11.1s\tremaining: 2.08s\n",
      "842:\tlearn: 0.6633391\ttotal: 11.1s\tremaining: 2.07s\n",
      "843:\tlearn: 0.6633085\ttotal: 11.1s\tremaining: 2.06s\n",
      "844:\tlearn: 0.6632846\ttotal: 11.1s\tremaining: 2.04s\n",
      "845:\tlearn: 0.6632621\ttotal: 11.1s\tremaining: 2.03s\n",
      "846:\tlearn: 0.6632260\ttotal: 11.2s\tremaining: 2.02s\n",
      "847:\tlearn: 0.6631994\ttotal: 11.2s\tremaining: 2s\n",
      "848:\tlearn: 0.6631672\ttotal: 11.2s\tremaining: 1.99s\n",
      "849:\tlearn: 0.6631522\ttotal: 11.2s\tremaining: 1.98s\n",
      "850:\tlearn: 0.6631242\ttotal: 11.2s\tremaining: 1.96s\n",
      "851:\tlearn: 0.6630990\ttotal: 11.2s\tremaining: 1.95s\n",
      "852:\tlearn: 0.6630673\ttotal: 11.2s\tremaining: 1.94s\n",
      "853:\tlearn: 0.6630410\ttotal: 11.3s\tremaining: 1.92s\n",
      "854:\tlearn: 0.6630085\ttotal: 11.3s\tremaining: 1.91s\n",
      "855:\tlearn: 0.6629717\ttotal: 11.3s\tremaining: 1.9s\n",
      "856:\tlearn: 0.6629470\ttotal: 11.3s\tremaining: 1.89s\n",
      "857:\tlearn: 0.6629273\ttotal: 11.3s\tremaining: 1.87s\n",
      "858:\tlearn: 0.6628933\ttotal: 11.3s\tremaining: 1.86s\n",
      "859:\tlearn: 0.6628640\ttotal: 11.3s\tremaining: 1.85s\n",
      "860:\tlearn: 0.6628370\ttotal: 11.4s\tremaining: 1.83s\n",
      "861:\tlearn: 0.6628035\ttotal: 11.4s\tremaining: 1.82s\n",
      "862:\tlearn: 0.6627755\ttotal: 11.4s\tremaining: 1.81s\n",
      "863:\tlearn: 0.6627518\ttotal: 11.4s\tremaining: 1.79s\n",
      "864:\tlearn: 0.6627216\ttotal: 11.4s\tremaining: 1.78s\n",
      "865:\tlearn: 0.6626829\ttotal: 11.4s\tremaining: 1.77s\n",
      "866:\tlearn: 0.6626475\ttotal: 11.4s\tremaining: 1.75s\n",
      "867:\tlearn: 0.6626122\ttotal: 11.4s\tremaining: 1.74s\n",
      "868:\tlearn: 0.6625801\ttotal: 11.5s\tremaining: 1.73s\n",
      "869:\tlearn: 0.6625413\ttotal: 11.5s\tremaining: 1.71s\n",
      "870:\tlearn: 0.6625090\ttotal: 11.5s\tremaining: 1.7s\n",
      "871:\tlearn: 0.6624609\ttotal: 11.5s\tremaining: 1.69s\n",
      "872:\tlearn: 0.6624183\ttotal: 11.5s\tremaining: 1.67s\n",
      "873:\tlearn: 0.6623858\ttotal: 11.5s\tremaining: 1.66s\n",
      "874:\tlearn: 0.6623639\ttotal: 11.5s\tremaining: 1.65s\n",
      "875:\tlearn: 0.6623297\ttotal: 11.6s\tremaining: 1.64s\n",
      "876:\tlearn: 0.6623061\ttotal: 11.6s\tremaining: 1.62s\n",
      "877:\tlearn: 0.6622713\ttotal: 11.6s\tremaining: 1.61s\n",
      "878:\tlearn: 0.6622586\ttotal: 11.6s\tremaining: 1.59s\n",
      "879:\tlearn: 0.6622377\ttotal: 11.6s\tremaining: 1.58s\n",
      "880:\tlearn: 0.6622000\ttotal: 11.6s\tremaining: 1.57s\n",
      "881:\tlearn: 0.6621681\ttotal: 11.6s\tremaining: 1.55s\n",
      "882:\tlearn: 0.6621508\ttotal: 11.6s\tremaining: 1.54s\n",
      "883:\tlearn: 0.6621169\ttotal: 11.6s\tremaining: 1.53s\n",
      "884:\tlearn: 0.6620834\ttotal: 11.7s\tremaining: 1.51s\n",
      "885:\tlearn: 0.6620392\ttotal: 11.7s\tremaining: 1.5s\n",
      "886:\tlearn: 0.6620067\ttotal: 11.7s\tremaining: 1.49s\n",
      "887:\tlearn: 0.6619746\ttotal: 11.7s\tremaining: 1.48s\n",
      "888:\tlearn: 0.6619529\ttotal: 11.7s\tremaining: 1.46s\n",
      "889:\tlearn: 0.6619310\ttotal: 11.7s\tremaining: 1.45s\n",
      "890:\tlearn: 0.6619044\ttotal: 11.7s\tremaining: 1.44s\n",
      "891:\tlearn: 0.6618788\ttotal: 11.7s\tremaining: 1.42s\n",
      "892:\tlearn: 0.6618456\ttotal: 11.8s\tremaining: 1.41s\n",
      "893:\tlearn: 0.6618199\ttotal: 11.8s\tremaining: 1.4s\n",
      "894:\tlearn: 0.6617913\ttotal: 11.8s\tremaining: 1.38s\n",
      "895:\tlearn: 0.6617653\ttotal: 11.8s\tremaining: 1.37s\n",
      "896:\tlearn: 0.6617466\ttotal: 11.8s\tremaining: 1.35s\n",
      "897:\tlearn: 0.6617222\ttotal: 11.8s\tremaining: 1.34s\n",
      "898:\tlearn: 0.6617063\ttotal: 11.8s\tremaining: 1.33s\n",
      "899:\tlearn: 0.6616795\ttotal: 11.8s\tremaining: 1.31s\n",
      "900:\tlearn: 0.6616464\ttotal: 11.9s\tremaining: 1.3s\n",
      "901:\tlearn: 0.6616159\ttotal: 11.9s\tremaining: 1.29s\n",
      "902:\tlearn: 0.6615778\ttotal: 11.9s\tremaining: 1.28s\n",
      "903:\tlearn: 0.6615436\ttotal: 11.9s\tremaining: 1.26s\n",
      "904:\tlearn: 0.6615056\ttotal: 11.9s\tremaining: 1.25s\n",
      "905:\tlearn: 0.6614767\ttotal: 11.9s\tremaining: 1.24s\n",
      "906:\tlearn: 0.6614446\ttotal: 11.9s\tremaining: 1.22s\n",
      "907:\tlearn: 0.6614047\ttotal: 11.9s\tremaining: 1.21s\n",
      "908:\tlearn: 0.6613859\ttotal: 12s\tremaining: 1.2s\n",
      "909:\tlearn: 0.6613516\ttotal: 12s\tremaining: 1.18s\n",
      "910:\tlearn: 0.6613324\ttotal: 12s\tremaining: 1.17s\n",
      "911:\tlearn: 0.6612982\ttotal: 12s\tremaining: 1.16s\n",
      "912:\tlearn: 0.6612702\ttotal: 12s\tremaining: 1.14s\n",
      "913:\tlearn: 0.6612405\ttotal: 12s\tremaining: 1.13s\n",
      "914:\tlearn: 0.6612081\ttotal: 12s\tremaining: 1.12s\n",
      "915:\tlearn: 0.6611663\ttotal: 12s\tremaining: 1.1s\n",
      "916:\tlearn: 0.6611324\ttotal: 12.1s\tremaining: 1.09s\n",
      "917:\tlearn: 0.6611134\ttotal: 12.1s\tremaining: 1.08s\n",
      "918:\tlearn: 0.6610802\ttotal: 12.1s\tremaining: 1.06s\n",
      "919:\tlearn: 0.6610580\ttotal: 12.1s\tremaining: 1.05s\n",
      "920:\tlearn: 0.6610294\ttotal: 12.1s\tremaining: 1.04s\n",
      "921:\tlearn: 0.6610025\ttotal: 12.1s\tremaining: 1.03s\n",
      "922:\tlearn: 0.6609774\ttotal: 12.1s\tremaining: 1.01s\n",
      "923:\tlearn: 0.6609516\ttotal: 12.2s\tremaining: 1s\n",
      "924:\tlearn: 0.6609196\ttotal: 12.2s\tremaining: 987ms\n",
      "925:\tlearn: 0.6608885\ttotal: 12.2s\tremaining: 974ms\n",
      "926:\tlearn: 0.6608656\ttotal: 12.2s\tremaining: 961ms\n",
      "927:\tlearn: 0.6608367\ttotal: 12.2s\tremaining: 947ms\n",
      "928:\tlearn: 0.6608075\ttotal: 12.2s\tremaining: 934ms\n",
      "929:\tlearn: 0.6607901\ttotal: 12.2s\tremaining: 921ms\n",
      "930:\tlearn: 0.6607692\ttotal: 12.2s\tremaining: 908ms\n",
      "931:\tlearn: 0.6607239\ttotal: 12.3s\tremaining: 894ms\n",
      "932:\tlearn: 0.6606994\ttotal: 12.3s\tremaining: 881ms\n",
      "933:\tlearn: 0.6606808\ttotal: 12.3s\tremaining: 868ms\n",
      "934:\tlearn: 0.6606511\ttotal: 12.3s\tremaining: 855ms\n",
      "935:\tlearn: 0.6606249\ttotal: 12.3s\tremaining: 842ms\n",
      "936:\tlearn: 0.6605983\ttotal: 12.3s\tremaining: 829ms\n",
      "937:\tlearn: 0.6605804\ttotal: 12.3s\tremaining: 815ms\n",
      "938:\tlearn: 0.6605599\ttotal: 12.3s\tremaining: 802ms\n",
      "939:\tlearn: 0.6605363\ttotal: 12.4s\tremaining: 789ms\n",
      "940:\tlearn: 0.6604983\ttotal: 12.4s\tremaining: 776ms\n",
      "941:\tlearn: 0.6604729\ttotal: 12.4s\tremaining: 763ms\n",
      "942:\tlearn: 0.6604519\ttotal: 12.4s\tremaining: 749ms\n",
      "943:\tlearn: 0.6604302\ttotal: 12.4s\tremaining: 736ms\n",
      "944:\tlearn: 0.6603976\ttotal: 12.4s\tremaining: 723ms\n",
      "945:\tlearn: 0.6603812\ttotal: 12.4s\tremaining: 710ms\n",
      "946:\tlearn: 0.6603604\ttotal: 12.4s\tremaining: 697ms\n",
      "947:\tlearn: 0.6603284\ttotal: 12.5s\tremaining: 684ms\n",
      "948:\tlearn: 0.6603031\ttotal: 12.5s\tremaining: 671ms\n",
      "949:\tlearn: 0.6602675\ttotal: 12.5s\tremaining: 658ms\n",
      "950:\tlearn: 0.6602421\ttotal: 12.5s\tremaining: 644ms\n",
      "951:\tlearn: 0.6602075\ttotal: 12.5s\tremaining: 631ms\n",
      "952:\tlearn: 0.6601885\ttotal: 12.5s\tremaining: 618ms\n",
      "953:\tlearn: 0.6601691\ttotal: 12.5s\tremaining: 605ms\n",
      "954:\tlearn: 0.6601332\ttotal: 12.6s\tremaining: 592ms\n",
      "955:\tlearn: 0.6601128\ttotal: 12.6s\tremaining: 579ms\n",
      "956:\tlearn: 0.6600819\ttotal: 12.6s\tremaining: 566ms\n",
      "957:\tlearn: 0.6600540\ttotal: 12.6s\tremaining: 552ms\n",
      "958:\tlearn: 0.6600273\ttotal: 12.6s\tremaining: 539ms\n",
      "959:\tlearn: 0.6600071\ttotal: 12.6s\tremaining: 526ms\n",
      "960:\tlearn: 0.6599715\ttotal: 12.6s\tremaining: 513ms\n",
      "961:\tlearn: 0.6599472\ttotal: 12.7s\tremaining: 500ms\n",
      "962:\tlearn: 0.6599205\ttotal: 12.7s\tremaining: 487ms\n",
      "963:\tlearn: 0.6598990\ttotal: 12.7s\tremaining: 474ms\n",
      "964:\tlearn: 0.6598792\ttotal: 12.7s\tremaining: 461ms\n",
      "965:\tlearn: 0.6598566\ttotal: 12.7s\tremaining: 447ms\n",
      "966:\tlearn: 0.6598207\ttotal: 12.7s\tremaining: 434ms\n",
      "967:\tlearn: 0.6598123\ttotal: 12.7s\tremaining: 421ms\n",
      "968:\tlearn: 0.6597908\ttotal: 12.8s\tremaining: 408ms\n",
      "969:\tlearn: 0.6597655\ttotal: 12.8s\tremaining: 395ms\n",
      "970:\tlearn: 0.6597398\ttotal: 12.8s\tremaining: 382ms\n",
      "971:\tlearn: 0.6597074\ttotal: 12.8s\tremaining: 369ms\n",
      "972:\tlearn: 0.6596874\ttotal: 12.8s\tremaining: 355ms\n",
      "973:\tlearn: 0.6596635\ttotal: 12.8s\tremaining: 342ms\n",
      "974:\tlearn: 0.6596355\ttotal: 12.8s\tremaining: 329ms\n",
      "975:\tlearn: 0.6596105\ttotal: 12.8s\tremaining: 316ms\n",
      "976:\tlearn: 0.6595773\ttotal: 12.9s\tremaining: 303ms\n",
      "977:\tlearn: 0.6595601\ttotal: 12.9s\tremaining: 289ms\n",
      "978:\tlearn: 0.6595349\ttotal: 12.9s\tremaining: 276ms\n",
      "979:\tlearn: 0.6595240\ttotal: 12.9s\tremaining: 263ms\n",
      "980:\tlearn: 0.6595045\ttotal: 12.9s\tremaining: 250ms\n",
      "981:\tlearn: 0.6594745\ttotal: 12.9s\tremaining: 237ms\n",
      "982:\tlearn: 0.6594504\ttotal: 12.9s\tremaining: 224ms\n",
      "983:\tlearn: 0.6594185\ttotal: 12.9s\tremaining: 210ms\n",
      "984:\tlearn: 0.6593913\ttotal: 13s\tremaining: 197ms\n",
      "985:\tlearn: 0.6593650\ttotal: 13s\tremaining: 184ms\n",
      "986:\tlearn: 0.6593512\ttotal: 13s\tremaining: 171ms\n",
      "987:\tlearn: 0.6593137\ttotal: 13s\tremaining: 158ms\n",
      "988:\tlearn: 0.6592880\ttotal: 13s\tremaining: 145ms\n",
      "989:\tlearn: 0.6592596\ttotal: 13s\tremaining: 131ms\n",
      "990:\tlearn: 0.6592370\ttotal: 13s\tremaining: 118ms\n",
      "991:\tlearn: 0.6591996\ttotal: 13s\tremaining: 105ms\n",
      "992:\tlearn: 0.6591661\ttotal: 13.1s\tremaining: 92ms\n",
      "993:\tlearn: 0.6591460\ttotal: 13.1s\tremaining: 78.9ms\n",
      "994:\tlearn: 0.6591264\ttotal: 13.1s\tremaining: 65.7ms\n",
      "995:\tlearn: 0.6591068\ttotal: 13.1s\tremaining: 52.6ms\n",
      "996:\tlearn: 0.6590731\ttotal: 13.1s\tremaining: 39.4ms\n",
      "997:\tlearn: 0.6590336\ttotal: 13.1s\tremaining: 26.3ms\n",
      "998:\tlearn: 0.6590111\ttotal: 13.1s\tremaining: 13.1ms\n",
      "999:\tlearn: 0.6589790\ttotal: 13.1s\tremaining: 0us\n"
     ]
    },
    {
     "data": {
      "text/plain": [
       "<catboost.core.CatBoostClassifier at 0x17368494700>"
      ]
     },
     "execution_count": 87,
     "metadata": {},
     "output_type": "execute_result"
    }
   ],
   "source": [
    "from catboost import CatBoostClassifier\n",
    "model_cat = CatBoostClassifier()\n",
    "model_cat.fit(X_train, y_train)"
   ]
  },
  {
   "cell_type": "code",
   "execution_count": 88,
   "id": "7862981d",
   "metadata": {},
   "outputs": [
    {
     "data": {
      "text/plain": [
       "array([0., 0., 0., ..., 0., 1., 1.])"
      ]
     },
     "execution_count": 88,
     "metadata": {},
     "output_type": "execute_result"
    }
   ],
   "source": [
    "model_cat.predict(X_test)"
   ]
  },
  {
   "cell_type": "code",
   "execution_count": 89,
   "id": "750a7ed6",
   "metadata": {},
   "outputs": [
    {
     "data": {
      "text/plain": [
       "0.4971"
      ]
     },
     "execution_count": 89,
     "metadata": {},
     "output_type": "execute_result"
    }
   ],
   "source": [
    "model_cat.score(X_test, y_test)"
   ]
  },
  {
   "cell_type": "markdown",
   "id": "1fa042d6",
   "metadata": {},
   "source": [
    "### SVM"
   ]
  },
  {
   "cell_type": "code",
   "execution_count": 32,
   "id": "1e24a759",
   "metadata": {},
   "outputs": [
    {
     "data": {
      "text/plain": [
       "SVC()"
      ]
     },
     "execution_count": 32,
     "metadata": {},
     "output_type": "execute_result"
    }
   ],
   "source": [
    "from sklearn.svm import SVC\n",
    "model_svm = SVC()\n",
    "model_svm.fit(X_train, y_train)"
   ]
  },
  {
   "cell_type": "code",
   "execution_count": 33,
   "id": "d78c7b8f",
   "metadata": {},
   "outputs": [
    {
     "data": {
      "text/plain": [
       "array([0., 0., 0., ..., 0., 0., 0.])"
      ]
     },
     "execution_count": 33,
     "metadata": {},
     "output_type": "execute_result"
    }
   ],
   "source": [
    "model_svm.predict(X_test)"
   ]
  },
  {
   "cell_type": "code",
   "execution_count": 34,
   "id": "8f43b4e3",
   "metadata": {},
   "outputs": [
    {
     "data": {
      "text/plain": [
       "0.49565"
      ]
     },
     "execution_count": 34,
     "metadata": {},
     "output_type": "execute_result"
    }
   ],
   "source": [
    "model_svm.score(X_test, y_test)"
   ]
  },
  {
   "cell_type": "markdown",
   "id": "ea76fb78",
   "metadata": {},
   "source": [
    "# PCA"
   ]
  },
  {
   "cell_type": "code",
   "execution_count": 209,
   "id": "8a23238d",
   "metadata": {},
   "outputs": [
    {
     "data": {
      "text/plain": [
       "(100000, 10)"
      ]
     },
     "execution_count": 209,
     "metadata": {},
     "output_type": "execute_result"
    }
   ],
   "source": [
    "X.shape"
   ]
  },
  {
   "cell_type": "code",
   "execution_count": 206,
   "id": "f10db7b3",
   "metadata": {},
   "outputs": [
    {
     "data": {
      "text/plain": [
       "(100000, 8)"
      ]
     },
     "execution_count": 206,
     "metadata": {},
     "output_type": "execute_result"
    }
   ],
   "source": [
    "from sklearn.decomposition import PCA\n",
    "\n",
    "pca = PCA(0.95)\n",
    "X_pca = pca.fit_transform(X)\n",
    "X_pca.shape"
   ]
  },
  {
   "cell_type": "code",
   "execution_count": 210,
   "id": "76e44a1f",
   "metadata": {},
   "outputs": [],
   "source": [
    "X_train_pca, X_test_pca, y_train, y_test = train_test_split(X_pca, y, test_size = 0.2, random_state = 42)"
   ]
  },
  {
   "cell_type": "code",
   "execution_count": 213,
   "id": "6f5a8c51",
   "metadata": {},
   "outputs": [
    {
     "name": "stdout",
     "output_type": "stream",
     "text": [
      "Epoch 1/20\n",
      "2500/2500 [==============================] - 13s 5ms/step - loss: 0.6943 - accuracy: 0.5013\n",
      "Epoch 2/20\n",
      "2500/2500 [==============================] - 12s 5ms/step - loss: 0.6932 - accuracy: 0.5048\n",
      "Epoch 3/20\n",
      "2500/2500 [==============================] - 13s 5ms/step - loss: 0.6932 - accuracy: 0.5006\n",
      "Epoch 4/20\n",
      "2500/2500 [==============================] - 12s 5ms/step - loss: 0.6932 - accuracy: 0.5004\n",
      "Epoch 5/20\n",
      "2500/2500 [==============================] - 13s 5ms/step - loss: 0.6932 - accuracy: 0.5021\n",
      "Epoch 6/20\n",
      "2500/2500 [==============================] - 12s 5ms/step - loss: 0.6932 - accuracy: 0.5004\n",
      "Epoch 7/20\n",
      "2500/2500 [==============================] - 12s 5ms/step - loss: 0.6932 - accuracy: 0.4990\n",
      "Epoch 8/20\n",
      "2500/2500 [==============================] - 13s 5ms/step - loss: 0.6932 - accuracy: 0.5001\n",
      "Epoch 9/20\n",
      "2500/2500 [==============================] - 12s 5ms/step - loss: 0.6932 - accuracy: 0.5005\n",
      "Epoch 10/20\n",
      "2500/2500 [==============================] - 13s 5ms/step - loss: 0.6932 - accuracy: 0.5013\n",
      "Epoch 11/20\n",
      "2500/2500 [==============================] - 13s 5ms/step - loss: 0.6932 - accuracy: 0.5002\n",
      "Epoch 12/20\n",
      "2500/2500 [==============================] - 13s 5ms/step - loss: 0.6932 - accuracy: 0.5014\n",
      "Epoch 13/20\n",
      "2500/2500 [==============================] - 12s 5ms/step - loss: 0.6932 - accuracy: 0.4996\n",
      "Epoch 14/20\n",
      "2500/2500 [==============================] - 13s 5ms/step - loss: 0.6932 - accuracy: 0.5015\n",
      "Epoch 15/20\n",
      "2500/2500 [==============================] - 13s 5ms/step - loss: 0.6931 - accuracy: 0.5026\n",
      "Epoch 16/20\n",
      "2500/2500 [==============================] - 12s 5ms/step - loss: 0.6932 - accuracy: 0.5010\n",
      "Epoch 17/20\n",
      "2500/2500 [==============================] - 12s 5ms/step - loss: 0.6932 - accuracy: 0.5005\n",
      "Epoch 18/20\n",
      "2500/2500 [==============================] - 12s 5ms/step - loss: 0.6932 - accuracy: 0.4991\n",
      "Epoch 19/20\n",
      "2500/2500 [==============================] - 13s 5ms/step - loss: 0.6932 - accuracy: 0.4988\n",
      "Epoch 20/20\n",
      "2500/2500 [==============================] - 13s 5ms/step - loss: 0.6932 - accuracy: 0.4994\n"
     ]
    },
    {
     "data": {
      "text/plain": [
       "<tensorflow.python.keras.callbacks.History at 0x1742b982f10>"
      ]
     },
     "execution_count": 213,
     "metadata": {},
     "output_type": "execute_result"
    }
   ],
   "source": [
    "model = keras.Sequential(\n",
    "[\n",
    "    keras.layers.Dense(8, input_shape = (8,), activation = 'relu'),\n",
    "    keras.layers.Dropout(0.5),\n",
    "    keras.layers.Dense(8, activation = 'relu'),\n",
    "    keras.layers.Dropout(0.5),\n",
    "    keras.layers.Dense(4, activation = 'relu'),\n",
    "    keras.layers.Dropout(0.5),\n",
    "    keras.layers.Dense(1, activation = 'sigmoid')\n",
    "])\n",
    "\n",
    "# opt = keras.optimizers.Adam(learning_rate=0.01)\n",
    "\n",
    "model.compile(optimizer = 'adam',\n",
    "              loss = 'binary_crossentropy',\n",
    "              metrics = ['accuracy'])\n",
    "\n",
    "model.fit(X_train_pca, y_train, epochs = 20)"
   ]
  },
  {
   "cell_type": "code",
   "execution_count": 214,
   "id": "55aaf116",
   "metadata": {},
   "outputs": [
    {
     "name": "stdout",
     "output_type": "stream",
     "text": [
      "625/625 [==============================] - 2s 3ms/step - loss: 0.6931 - accuracy: 0.5039\n"
     ]
    },
    {
     "data": {
      "text/plain": [
       "[0.6931325793266296, 0.5039499998092651]"
      ]
     },
     "execution_count": 214,
     "metadata": {},
     "output_type": "execute_result"
    }
   ],
   "source": [
    "model.evaluate(X_test_pca, y_test)"
   ]
  },
  {
   "cell_type": "code",
   "execution_count": 216,
   "id": "ca36bdbd",
   "metadata": {},
   "outputs": [],
   "source": [
    "yp_pca = model.predict(X_test_pca)"
   ]
  },
  {
   "cell_type": "code",
   "execution_count": 237,
   "id": "f7fea579",
   "metadata": {},
   "outputs": [],
   "source": [
    "y_pred_pca = []\n",
    "for element in yp_pca:\n",
    "    if element >= 0.5:\n",
    "        y_pred_pca.append(1)\n",
    "    else:\n",
    "        y_pred_pca.append(0)"
   ]
  },
  {
   "cell_type": "code",
   "execution_count": 238,
   "id": "89d081a1",
   "metadata": {},
   "outputs": [
    {
     "name": "stdout",
     "output_type": "stream",
     "text": [
      "              precision    recall  f1-score   support\n",
      "\n",
      "         0.0       0.50      1.00      0.67     10079\n",
      "         1.0       0.00      0.00      0.00      9921\n",
      "\n",
      "    accuracy                           0.50     20000\n",
      "   macro avg       0.25      0.50      0.34     20000\n",
      "weighted avg       0.25      0.50      0.34     20000\n",
      "\n"
     ]
    },
    {
     "name": "stderr",
     "output_type": "stream",
     "text": [
      "C:\\Users\\anime\\anaconda3\\lib\\site-packages\\sklearn\\metrics\\_classification.py:1318: UndefinedMetricWarning: Precision and F-score are ill-defined and being set to 0.0 in labels with no predicted samples. Use `zero_division` parameter to control this behavior.\n",
      "  _warn_prf(average, modifier, msg_start, len(result))\n",
      "C:\\Users\\anime\\anaconda3\\lib\\site-packages\\sklearn\\metrics\\_classification.py:1318: UndefinedMetricWarning: Precision and F-score are ill-defined and being set to 0.0 in labels with no predicted samples. Use `zero_division` parameter to control this behavior.\n",
      "  _warn_prf(average, modifier, msg_start, len(result))\n",
      "C:\\Users\\anime\\anaconda3\\lib\\site-packages\\sklearn\\metrics\\_classification.py:1318: UndefinedMetricWarning: Precision and F-score are ill-defined and being set to 0.0 in labels with no predicted samples. Use `zero_division` parameter to control this behavior.\n",
      "  _warn_prf(average, modifier, msg_start, len(result))\n"
     ]
    }
   ],
   "source": [
    "from sklearn.metrics import confusion_matrix , classification_report\n",
    "\n",
    "print(classification_report(y_test, y_pred_pca))"
   ]
  },
  {
   "cell_type": "code",
   "execution_count": null,
   "id": "303e91e8",
   "metadata": {},
   "outputs": [],
   "source": []
  }
 ],
 "metadata": {
  "kernelspec": {
   "display_name": "Python 3 (ipykernel)",
   "language": "python",
   "name": "python3"
  },
  "language_info": {
   "codemirror_mode": {
    "name": "ipython",
    "version": 3
   },
   "file_extension": ".py",
   "mimetype": "text/x-python",
   "name": "python",
   "nbconvert_exporter": "python",
   "pygments_lexer": "ipython3",
   "version": "3.9.12"
  }
 },
 "nbformat": 4,
 "nbformat_minor": 5
}
